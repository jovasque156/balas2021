{
 "cells": [
  {
   "cell_type": "code",
   "execution_count": 1,
   "metadata": {},
   "outputs": [],
   "source": [
    "#Importing Libraries\n",
    "#Data Handling\n",
    "import pandas as pd\n",
    "import numpy as np\n",
    "import sklearn\n",
    "import math\n",
    "\n",
    "#plotting\n",
    "import matplotlib.pyplot as plt\n",
    "from ipywidgets import interact, interactive, fixed, interact_manual\n",
    "from IPython.display import Markdown, display\n",
    "import ipywidgets as widgets\n",
    "import seaborn as sns\n",
    "sns.set()\n",
    "\n",
    "#Pipelines\n",
    "from source import *\n",
    "import source.fairness as fm\n",
    "import source.pipes as op\n",
    "\n",
    "#Sampling\n",
    "from sklearn.model_selection import train_test_split\n",
    "\n",
    "#Storing trains\n",
    "import pickle"
   ]
  },
  {
   "cell_type": "code",
   "execution_count": 2,
   "metadata": {},
   "outputs": [],
   "source": [
    "#Run following codes for loading pipelines on dictionary from pickles\n",
    "with open('pipes/causal_3sem/preprocessing.pickle', 'rb') as f:\n",
    "    preprocessing_pickles = pickle.load(f)\n",
    "    \n",
    "with open('pipes/causal_3sem/y.pickle', 'rb') as f:\n",
    "    y = pickle.load(f)\n",
    "    \n",
    "with open('pipes/causal_3sem/preprocessing_test.pickle', 'rb') as f:\n",
    "    data_test_prepro = pickle.load(f)\n",
    "    \n",
    "with open('pipes/causal_3sem/A.pickle', 'rb') as f:\n",
    "    A = pickle.load(f)\n",
    "\n",
    "with open('pipes/causal_3sem/preprocessing_features_aware.pickle', 'rb') as f:\n",
    "    aware_features = pickle.load(f)\n",
    "\n",
    "with open('pipes/causal_3sem/preprocessing_features_gender.pickle', 'rb') as f:\n",
    "    gender_features = pickle.load(f)\n",
    "\n",
    "with open('pipes/causal_3sem/preprocessing_features_public_school.pickle', 'rb') as f:\n",
    "    public_school_features = pickle.load(f)\n"
   ]
  },
  {
   "cell_type": "code",
   "execution_count": 3,
   "metadata": {},
   "outputs": [],
   "source": [
    "#Run this for creating dictionary of datasets, nompipelines, and numpipelines\n",
    "#remember: transf means data normalized and scaled.\n",
    "datasets_prepro = {}\n",
    "pipes_nominal = {}\n",
    "pipes_numerical = {}\n",
    "\n",
    "for p in preprocessing_pickles:\n",
    "    d , pnom, pnum = preprocessing_pickles[p]\n",
    "    datasets_prepro[p] = d\n",
    "    pipes_nominal[p] = pnom\n",
    "    pipes_numerical[p] = pnum\n",
    "    \n",
    "for yval in y:\n",
    "    y_train = y['train']\n",
    "    y_test = y['test']\n",
    "    \n",
    "for Aval in A:\n",
    "    A_train = A['train']\n",
    "    A_test = A['test']"
   ]
  },
  {
   "cell_type": "markdown",
   "metadata": {},
   "source": [
    "# Model Train Pipes\n",
    "\n",
    "Using the prepared train datasets, different model will be training in order to identify the get the best model considering different set of parameters."
   ]
  },
  {
   "cell_type": "markdown",
   "metadata": {},
   "source": [
    "Let define the use of the different dataset"
   ]
  },
  {
   "cell_type": "code",
   "execution_count": 4,
   "metadata": {},
   "outputs": [],
   "source": [
    "#Get in a dictionary all preprocessed datasets.\n",
    "datasets = {}\n",
    "for d in datasets_prepro:\n",
    "    ds = datasets_prepro[d]\n",
    "    datasets['transformed_'+d] = ds"
   ]
  },
  {
   "cell_type": "code",
   "execution_count": 5,
   "metadata": {},
   "outputs": [
    {
     "data": {
      "text/plain": [
       "dict_keys(['transformed_aware', 'transformed_gender', 'transformed_public_school'])"
      ]
     },
     "execution_count": 5,
     "metadata": {},
     "output_type": "execute_result"
    }
   ],
   "source": [
    "datasets.keys()"
   ]
  },
  {
   "cell_type": "markdown",
   "metadata": {},
   "source": [
    "### Train Models"
   ]
  },
  {
   "cell_type": "code",
   "execution_count": 6,
   "metadata": {},
   "outputs": [
    {
     "name": "stdout",
     "output_type": "stream",
     "text": [
      "Starting for...transformed_aware with (3294, 56) features\n",
      "End for transformed_aware\n",
      "\n",
      "Starting for...transformed_gender with (3294, 55) features\n",
      "End for transformed_gender\n",
      "\n",
      "Starting for...transformed_public_school with (3294, 55) features\n",
      "End for transformed_public_school\n",
      "\n"
     ]
    }
   ],
   "source": [
    "#Defining Models and parameters for gid\n",
    "#Random Forest\n",
    "parameters = {'RF__class_weight': ['balanced'],'RF__n_estimators':[10, 50, 100], 'RF__criterion': ['gini', 'entropy'], 'RF__max_depth': [None, 5, 10, 15]}\n",
    "rf = RandomForestClassifier(random_state=0)\n",
    "\n",
    "rf_res = {}\n",
    "\n",
    "for ds in datasets:\n",
    "    print(\"Starting for...\"+ds+' with '+str(datasets[ds].shape)+' features')\n",
    "    X = datasets[ds].toarray()\n",
    "    y_train_data = y_train\n",
    "        \n",
    "    fit = op.get_grid(X, y_train_data, parameters, rf, 'RF')\n",
    "    print(\"End for \"+ds)\n",
    "    print()\n",
    "    \n",
    "    rf_res[ds] = fit"
   ]
  },
  {
   "cell_type": "code",
   "execution_count": 7,
   "metadata": {},
   "outputs": [
    {
     "name": "stdout",
     "output_type": "stream",
     "text": [
      "Starting for...transformed_aware with (3294, 56) features\n",
      "End for transformed_aware\n",
      "\n",
      "Starting for...transformed_gender with (3294, 55) features\n",
      "End for transformed_gender\n",
      "\n",
      "Starting for...transformed_public_school with (3294, 55) features\n",
      "End for transformed_public_school\n",
      "\n"
     ]
    }
   ],
   "source": [
    "#Random Classification\n",
    "parameters = {'dummy__strategy': ['uniform']}\n",
    "dummy = DummyClassifier()\n",
    "\n",
    "dummy_res = {}\n",
    "\n",
    "for ds in datasets:\n",
    "    print(\"Starting for...\"+ds+' with '+str(datasets[ds].shape)+' features')\n",
    "    X = datasets[ds].toarray()\n",
    "    y_train_data = y_train\n",
    "        \n",
    "    fit = op.get_grid(X, y_train_data, parameters, dummy, 'dummy')\n",
    "    print(\"End for \"+ds)\n",
    "    print()\n",
    "    \n",
    "    dummy_res[ds] = fit"
   ]
  },
  {
   "cell_type": "code",
   "execution_count": 8,
   "metadata": {},
   "outputs": [],
   "source": [
    "#Run this code for storing grid results\n",
    "train_models = {'RF':rf_res,'dummy': dummy_res}\n",
    "with open('grid/causal_3sem/train_models.pickle', 'wb') as f:\n",
    "    pickle.dump(train_models, f)"
   ]
  },
  {
   "cell_type": "code",
   "execution_count": 9,
   "metadata": {},
   "outputs": [],
   "source": [
    "#Run this code for loading models\n",
    "with open('grid/causal_3sem/train_models.pickle', 'rb') as f:\n",
    "    train_models = pickle.load(f)"
   ]
  },
  {
   "cell_type": "code",
   "execution_count": 10,
   "metadata": {},
   "outputs": [
    {
     "data": {
      "text/plain": [
       "dict_keys(['RF', 'dummy'])"
      ]
     },
     "execution_count": 10,
     "metadata": {},
     "output_type": "execute_result"
    }
   ],
   "source": [
    "train_models.keys()\n"
   ]
  },
  {
   "cell_type": "markdown",
   "metadata": {},
   "source": [
    "# Comparing Results with test\n",
    "After training and getting the better results for each dataset, now we analyze the differences for each model by using the data tests."
   ]
  },
  {
   "cell_type": "code",
   "execution_count": 11,
   "metadata": {},
   "outputs": [
    {
     "data": {
      "text/plain": [
       "dict_keys(['transformed_aware', 'transformed_gender', 'transformed_public_school'])"
      ]
     },
     "execution_count": 11,
     "metadata": {},
     "output_type": "execute_result"
    }
   ],
   "source": [
    "#Get in a dictionary all preprocessed datasets.\n",
    "datasets_test = {}\n",
    "for d in data_test_prepro:\n",
    "    ds = data_test_prepro[d]\n",
    "    datasets_test['transformed_'+d] = ds\n",
    "datasets_test.keys()\n"
   ]
  },
  {
   "cell_type": "markdown",
   "metadata": {},
   "source": [
    "Now, we apply the prediction for each model and datasets in order to evaluate how the models perform between groups."
   ]
  },
  {
   "cell_type": "code",
   "execution_count": 12,
   "metadata": {},
   "outputs": [
    {
     "name": "stdout",
     "output_type": "stream",
     "text": [
      "\n",
      "Running for RF model:\n",
      "  Evaluating for transformed_aware datasets...\n",
      "  Saving results for gender...\n",
      "  Saving results for school...\n",
      "  Evaluating for transformed_gender datasets...\n",
      "  Saving results for gender...\n",
      "  Evaluating for transformed_public_school datasets...\n",
      "  Saving results for school...\n",
      "\n",
      "Running for dummy model:\n",
      "  Evaluating for transformed_aware datasets...\n",
      "  Saving results for gender...\n",
      "  Saving results for school...\n",
      "  Evaluating for transformed_gender datasets...\n",
      "  Saving results for gender...\n",
      "  Evaluating for transformed_public_school datasets...\n",
      "  Saving results for school...\n"
     ]
    }
   ],
   "source": [
    "results_test_complete = pd.DataFrame(columns = ['model', 'scenario', 'f1_score', 'f1_score_priv','f1_score_unpriv','accuracy', 'accuracy_priv','accuracy_unpriv', 'auc', 'auc_priv', 'auc_unpriv'])\n",
    "results_test = pd.DataFrame(columns = ['model', 'dataset', 'unaware', 'f1_score', 'accuracy_score', 'auc'])\n",
    "results_per_group_gender = pd.DataFrame(columns = ['model', 'dataset', 'unaware', 'f1_score', 'f1_score_priv','f1_score_unpriv', 'accuracy','accuracy_priv','accuracy_unpriv', 'auc', 'auc_priv', 'auc_unpriv'])\n",
    "results_per_group_school = pd.DataFrame(columns = ['model', 'dataset', 'unaware', 'f1_score',  'f1_score_priv','f1_score_unpriv', 'accuracy','accuracy_priv','accuracy_unpriv', 'auc','auc_priv', 'auc_unpriv'])\n",
    "\n",
    "for m in train_models:\n",
    "    #get grid of a specific model\n",
    "    grid_model = train_models[m]\n",
    "    print()\n",
    "    print('Running for {0} model:'.format(m))\n",
    "    \n",
    "    #predict for each dataset\n",
    "    for ds in datasets_test:\n",
    "        if not('original' in ds):\n",
    "            print(\"  Evaluating for {0} datasets...\".format(ds))\n",
    "            unaware = 0\n",
    "            \n",
    "            ds_test = datasets_test[ds].toarray()\n",
    "            estimator_grid = grid_model[ds].best_estimator_[m]\n",
    "            y_pred = estimator_grid.predict(ds_test)\n",
    "            y_pred_prob = estimator_grid.predict_proba(ds_test)[:,1]\n",
    "            \n",
    "            #Overall performances\n",
    "            y_test_data = y_test\n",
    "                \n",
    "            f1 = f1_score(y_test_data, y_pred)\n",
    "            auc = roc_auc_score(y_test_data, y_pred_prob)\n",
    "            acc = accuracy_score(y_test_data, y_pred)\n",
    "\n",
    "            #Identifying aware, feature selection and decomposition\n",
    "            if ('gender' in ds) or ('public_school' in ds): unaware = 1\n",
    "        \n",
    "            #Performances per group\n",
    "            if ('gender' in ds) or ('aware' in ds):\n",
    "                print('  Saving results for gender...')\n",
    "                \n",
    "                A_fairness = A_test['gender']\n",
    "                \n",
    "                f1_gend_f = f1_score(y_test_data[A_fairness==1], y_pred[np.where(A_fairness==1)])\n",
    "                f1_gend_m = f1_score(y_test_data[A_fairness==0], y_pred[np.where(A_fairness==0)])\n",
    "\n",
    "                auc_gend_f = roc_auc_score(y_test_data[A_fairness==1], y_pred_prob[np.where(A_fairness==1)])\n",
    "                auc_gend_m = roc_auc_score(y_test_data[A_fairness==0], y_pred_prob[np.where(A_fairness==0)])\n",
    "\n",
    "                acc_f = accuracy_score(y_test_data[A_fairness==1], y_pred[np.where(A_fairness==1)])\n",
    "                acc_m = accuracy_score(y_test_data[A_fairness==0], y_pred[np.where(A_fairness==0)])\n",
    "\n",
    "                r_gender = {'model': m, 'dataset':ds, 'unaware': unaware,'f1_score': f1, 'f1_score_priv':f1_gend_m, 'f1_score_unpriv':f1_gend_f, 'accuracy':acc ,'accuracy_priv': acc_m,'accuracy_unpriv':acc_f , 'auc': auc, 'auc_priv': auc_gend_m, 'auc_unpriv': auc_gend_f}\n",
    "                results_per_group_gender = results_per_group_gender.append(r_gender, ignore_index = True)\n",
    "\n",
    "\n",
    "            if ('school' in ds) or ('aware' in ds):\n",
    "                print('  Saving results for school...')\n",
    "                \n",
    "                A_fairness = A_test['public_school']\n",
    "                \n",
    "                f1_gend_p = f1_score(y_test_data[A_fairness==1], y_pred[np.where(A_fairness==1)])\n",
    "                f1_gend_np = f1_score(y_test_data[A_fairness==0], y_pred[np.where(A_fairness==0)])\n",
    "\n",
    "                auc_gend_p = roc_auc_score(y_test_data[A_fairness==1], y_pred_prob[np.where(A_fairness==1)])\n",
    "                auc_gend_np = roc_auc_score(y_test_data[A_fairness==0], y_pred_prob[np.where(A_fairness==0)])\n",
    "\n",
    "                acc_p = accuracy_score(y_test_data[A_fairness==1], y_pred[np.where(A_fairness==1)])\n",
    "                acc_np = accuracy_score(y_test_data[A_fairness==0], y_pred[np.where(A_fairness==0)])\n",
    "                                                                                                                                                                                                                                                                                          \n",
    "                r_school = {'model': m, 'dataset':ds, 'unaware': unaware, 'f1_score': f1, 'f1_score_priv': f1_gend_np, 'f1_score_unpriv':f1_gend_p, 'accuracy':acc ,'accuracy_priv':acc_np ,'accuracy_unpriv': acc_p, 'auc': auc, 'auc_priv': auc_gend_np, 'auc_unpriv': auc_gend_p}\n",
    "                results_per_group_school = results_per_group_school.append(r_school, ignore_index = True)\n",
    "\n",
    "            if 'transformed' in ds and ('gender' in ds or 'school' in ds):\n",
    "                scenario=''\n",
    "                if 'gender' in ds:\n",
    "                    scenario = 'gender'\n",
    "                    f1_priv = f1_gend_m\n",
    "                    f1_unpriv = f1_gend_f\n",
    "                    acc_priv = acc_m\n",
    "                    acc_unpriv = acc_f\n",
    "                    auc_priv = auc_gend_m\n",
    "                    auc_unpriv = auc_gend_f\n",
    "                elif 'school' in ds:\n",
    "                    scenario = 'public_school'\n",
    "                    f1_priv = f1_gend_np\n",
    "                    f1_unpriv = f1_gend_p\n",
    "                    acc_priv = acc_np\n",
    "                    acc_unpriv = acc_p\n",
    "                    auc_priv = auc_gend_np\n",
    "                    auc_unpriv = auc_gend_p\n",
    "                                                                                                                                                                                                                         \n",
    "                r_complete = {'model': m, 'scenario': scenario, 'f1_score': f1, 'f1_score_priv': f1_priv,'f1_score_unpriv': f1_unpriv,'accuracy': acc,'accuracy_priv': acc_priv,'accuracy_unpriv': acc_unpriv, 'auc': auc, 'auc_priv': auc_priv, 'auc_unpriv':auc_unpriv}\n",
    "                results_test_complete = results_test_complete.append(r_complete, ignore_index = True)\n",
    "\n",
    "            r = {'model': m, 'dataset': ds, 'unaware': unaware, 'f1_score': f1, 'accuracy_score': acc, 'auc': auc}\n",
    "            results_test = results_test.append(r, ignore_index = True)"
   ]
  },
  {
   "cell_type": "code",
   "execution_count": 13,
   "metadata": {},
   "outputs": [],
   "source": [
    "#These pickles are for storing the results.\n",
    "with open('results/causal_3sem/results_test.pickle', 'wb') as f:\n",
    "    pickle.dump(results_test_complete, f)\n",
    "    \n",
    "with open('results/causal_3sem/results_per_group_gender.pickle', 'wb') as f:\n",
    "    pickle.dump(results_per_group_gender, f)\n",
    "    \n",
    "with open('results/causal_3sem/results_per_group_school.pickle', 'wb') as f:\n",
    "    pickle.dump(results_per_group_school, f)"
   ]
  },
  {
   "cell_type": "code",
   "execution_count": 14,
   "metadata": {},
   "outputs": [],
   "source": [
    "#Run the following codes for open pickles\n",
    "with open('results/causal_3sem/results_test.pickle', 'rb') as f:\n",
    "    results_test = pickle.load(f)\n",
    "\n",
    "with open('results/causal_3sem/results_per_group_gender.pickle', 'rb') as f:\n",
    "    results_per_group_gender = pickle.load(f)\n",
    "    \n",
    "with open('results/causal_3sem/results_per_group_school.pickle', 'rb') as f:\n",
    "    results_per_group_school = pickle.load(f)"
   ]
  },
  {
   "cell_type": "code",
   "execution_count": 15,
   "metadata": {},
   "outputs": [
    {
     "data": {
      "text/html": [
       "<div>\n",
       "<style scoped>\n",
       "    .dataframe tbody tr th:only-of-type {\n",
       "        vertical-align: middle;\n",
       "    }\n",
       "\n",
       "    .dataframe tbody tr th {\n",
       "        vertical-align: top;\n",
       "    }\n",
       "\n",
       "    .dataframe thead th {\n",
       "        text-align: right;\n",
       "    }\n",
       "</style>\n",
       "<table border=\"1\" class=\"dataframe\">\n",
       "  <thead>\n",
       "    <tr style=\"text-align: right;\">\n",
       "      <th></th>\n",
       "      <th>model</th>\n",
       "      <th>dataset</th>\n",
       "      <th>unaware</th>\n",
       "      <th>f1_score</th>\n",
       "      <th>f1_score_priv</th>\n",
       "      <th>f1_score_unpriv</th>\n",
       "      <th>accuracy</th>\n",
       "      <th>accuracy_priv</th>\n",
       "      <th>accuracy_unpriv</th>\n",
       "      <th>auc</th>\n",
       "      <th>auc_priv</th>\n",
       "      <th>auc_unpriv</th>\n",
       "    </tr>\n",
       "  </thead>\n",
       "  <tbody>\n",
       "    <tr>\n",
       "      <th>0</th>\n",
       "      <td>RF</td>\n",
       "      <td>transformed_aware</td>\n",
       "      <td>0</td>\n",
       "      <td>0.426573</td>\n",
       "      <td>0.384810</td>\n",
       "      <td>0.519774</td>\n",
       "      <td>0.767705</td>\n",
       "      <td>0.777064</td>\n",
       "      <td>0.736025</td>\n",
       "      <td>0.844638</td>\n",
       "      <td>0.841911</td>\n",
       "      <td>0.83209</td>\n",
       "    </tr>\n",
       "    <tr>\n",
       "      <th>2</th>\n",
       "      <td>dummy</td>\n",
       "      <td>transformed_aware</td>\n",
       "      <td>0</td>\n",
       "      <td>0.200466</td>\n",
       "      <td>0.177019</td>\n",
       "      <td>0.271028</td>\n",
       "      <td>0.514164</td>\n",
       "      <td>0.513761</td>\n",
       "      <td>0.515528</td>\n",
       "      <td>0.500000</td>\n",
       "      <td>0.500000</td>\n",
       "      <td>0.50000</td>\n",
       "    </tr>\n",
       "  </tbody>\n",
       "</table>\n",
       "</div>"
      ],
      "text/plain": [
       "   model            dataset unaware  f1_score  f1_score_priv  f1_score_unpriv  \\\n",
       "0     RF  transformed_aware       0  0.426573       0.384810         0.519774   \n",
       "2  dummy  transformed_aware       0  0.200466       0.177019         0.271028   \n",
       "\n",
       "   accuracy  accuracy_priv  accuracy_unpriv       auc  auc_priv  auc_unpriv  \n",
       "0  0.767705       0.777064         0.736025  0.844638  0.841911     0.83209  \n",
       "2  0.514164       0.513761         0.515528  0.500000  0.500000     0.50000  "
      ]
     },
     "execution_count": 15,
     "metadata": {},
     "output_type": "execute_result"
    }
   ],
   "source": [
    "results_per_group_school.loc[results_per_group_school['unaware']==0,:].sort_values(by='f1_score', ascending=False)"
   ]
  },
  {
   "cell_type": "code",
   "execution_count": 16,
   "metadata": {},
   "outputs": [
    {
     "data": {
      "text/html": [
       "<div>\n",
       "<style scoped>\n",
       "    .dataframe tbody tr th:only-of-type {\n",
       "        vertical-align: middle;\n",
       "    }\n",
       "\n",
       "    .dataframe tbody tr th {\n",
       "        vertical-align: top;\n",
       "    }\n",
       "\n",
       "    .dataframe thead th {\n",
       "        text-align: right;\n",
       "    }\n",
       "</style>\n",
       "<table border=\"1\" class=\"dataframe\">\n",
       "  <thead>\n",
       "    <tr style=\"text-align: right;\">\n",
       "      <th></th>\n",
       "      <th>model</th>\n",
       "      <th>dataset</th>\n",
       "      <th>unaware</th>\n",
       "      <th>f1_score</th>\n",
       "      <th>f1_score_priv</th>\n",
       "      <th>f1_score_unpriv</th>\n",
       "      <th>accuracy</th>\n",
       "      <th>accuracy_priv</th>\n",
       "      <th>accuracy_unpriv</th>\n",
       "      <th>auc</th>\n",
       "      <th>auc_priv</th>\n",
       "      <th>auc_unpriv</th>\n",
       "    </tr>\n",
       "  </thead>\n",
       "  <tbody>\n",
       "    <tr>\n",
       "      <th>1</th>\n",
       "      <td>RF</td>\n",
       "      <td>transformed_public_school</td>\n",
       "      <td>1</td>\n",
       "      <td>0.416382</td>\n",
       "      <td>0.378641</td>\n",
       "      <td>0.505747</td>\n",
       "      <td>0.757790</td>\n",
       "      <td>0.765138</td>\n",
       "      <td>0.732919</td>\n",
       "      <td>0.840697</td>\n",
       "      <td>0.838078</td>\n",
       "      <td>0.828358</td>\n",
       "    </tr>\n",
       "    <tr>\n",
       "      <th>3</th>\n",
       "      <td>dummy</td>\n",
       "      <td>transformed_public_school</td>\n",
       "      <td>1</td>\n",
       "      <td>0.180985</td>\n",
       "      <td>0.152623</td>\n",
       "      <td>0.254098</td>\n",
       "      <td>0.493626</td>\n",
       "      <td>0.511009</td>\n",
       "      <td>0.434783</td>\n",
       "      <td>0.500000</td>\n",
       "      <td>0.500000</td>\n",
       "      <td>0.500000</td>\n",
       "    </tr>\n",
       "  </tbody>\n",
       "</table>\n",
       "</div>"
      ],
      "text/plain": [
       "   model                    dataset unaware  f1_score  f1_score_priv  \\\n",
       "1     RF  transformed_public_school       1  0.416382       0.378641   \n",
       "3  dummy  transformed_public_school       1  0.180985       0.152623   \n",
       "\n",
       "   f1_score_unpriv  accuracy  accuracy_priv  accuracy_unpriv       auc  \\\n",
       "1         0.505747  0.757790       0.765138         0.732919  0.840697   \n",
       "3         0.254098  0.493626       0.511009         0.434783  0.500000   \n",
       "\n",
       "   auc_priv  auc_unpriv  \n",
       "1  0.838078    0.828358  \n",
       "3  0.500000    0.500000  "
      ]
     },
     "execution_count": 16,
     "metadata": {},
     "output_type": "execute_result"
    }
   ],
   "source": [
    "results_per_group_school. loc[results_per_group_school['unaware']==1,:].sort_values(by='f1_score', ascending=False)"
   ]
  },
  {
   "cell_type": "code",
   "execution_count": 17,
   "metadata": {},
   "outputs": [
    {
     "data": {
      "text/html": [
       "<div>\n",
       "<style scoped>\n",
       "    .dataframe tbody tr th:only-of-type {\n",
       "        vertical-align: middle;\n",
       "    }\n",
       "\n",
       "    .dataframe tbody tr th {\n",
       "        vertical-align: top;\n",
       "    }\n",
       "\n",
       "    .dataframe thead th {\n",
       "        text-align: right;\n",
       "    }\n",
       "</style>\n",
       "<table border=\"1\" class=\"dataframe\">\n",
       "  <thead>\n",
       "    <tr style=\"text-align: right;\">\n",
       "      <th></th>\n",
       "      <th>model</th>\n",
       "      <th>dataset</th>\n",
       "      <th>unaware</th>\n",
       "      <th>f1_score</th>\n",
       "      <th>f1_score_priv</th>\n",
       "      <th>f1_score_unpriv</th>\n",
       "      <th>accuracy</th>\n",
       "      <th>accuracy_priv</th>\n",
       "      <th>accuracy_unpriv</th>\n",
       "      <th>auc</th>\n",
       "      <th>auc_priv</th>\n",
       "      <th>auc_unpriv</th>\n",
       "    </tr>\n",
       "  </thead>\n",
       "  <tbody>\n",
       "    <tr>\n",
       "      <th>0</th>\n",
       "      <td>RF</td>\n",
       "      <td>transformed_aware</td>\n",
       "      <td>0</td>\n",
       "      <td>0.426573</td>\n",
       "      <td>0.453608</td>\n",
       "      <td>0.369565</td>\n",
       "      <td>0.767705</td>\n",
       "      <td>0.754630</td>\n",
       "      <td>0.788321</td>\n",
       "      <td>0.844638</td>\n",
       "      <td>0.828111</td>\n",
       "      <td>0.878035</td>\n",
       "    </tr>\n",
       "    <tr>\n",
       "      <th>2</th>\n",
       "      <td>dummy</td>\n",
       "      <td>transformed_aware</td>\n",
       "      <td>0</td>\n",
       "      <td>0.200466</td>\n",
       "      <td>0.237736</td>\n",
       "      <td>0.140244</td>\n",
       "      <td>0.514164</td>\n",
       "      <td>0.532407</td>\n",
       "      <td>0.485401</td>\n",
       "      <td>0.500000</td>\n",
       "      <td>0.500000</td>\n",
       "      <td>0.500000</td>\n",
       "    </tr>\n",
       "  </tbody>\n",
       "</table>\n",
       "</div>"
      ],
      "text/plain": [
       "   model            dataset unaware  f1_score  f1_score_priv  f1_score_unpriv  \\\n",
       "0     RF  transformed_aware       0  0.426573       0.453608         0.369565   \n",
       "2  dummy  transformed_aware       0  0.200466       0.237736         0.140244   \n",
       "\n",
       "   accuracy  accuracy_priv  accuracy_unpriv       auc  auc_priv  auc_unpriv  \n",
       "0  0.767705       0.754630         0.788321  0.844638  0.828111    0.878035  \n",
       "2  0.514164       0.532407         0.485401  0.500000  0.500000    0.500000  "
      ]
     },
     "execution_count": 17,
     "metadata": {},
     "output_type": "execute_result"
    }
   ],
   "source": [
    "results_per_group_gender.loc[results_per_group_school['unaware']==0,:].sort_values(by='f1_score', ascending=False)"
   ]
  },
  {
   "cell_type": "code",
   "execution_count": 18,
   "metadata": {},
   "outputs": [
    {
     "data": {
      "text/html": [
       "<div>\n",
       "<style scoped>\n",
       "    .dataframe tbody tr th:only-of-type {\n",
       "        vertical-align: middle;\n",
       "    }\n",
       "\n",
       "    .dataframe tbody tr th {\n",
       "        vertical-align: top;\n",
       "    }\n",
       "\n",
       "    .dataframe thead th {\n",
       "        text-align: right;\n",
       "    }\n",
       "</style>\n",
       "<table border=\"1\" class=\"dataframe\">\n",
       "  <thead>\n",
       "    <tr style=\"text-align: right;\">\n",
       "      <th></th>\n",
       "      <th>model</th>\n",
       "      <th>dataset</th>\n",
       "      <th>unaware</th>\n",
       "      <th>f1_score</th>\n",
       "      <th>f1_score_priv</th>\n",
       "      <th>f1_score_unpriv</th>\n",
       "      <th>accuracy</th>\n",
       "      <th>accuracy_priv</th>\n",
       "      <th>accuracy_unpriv</th>\n",
       "      <th>auc</th>\n",
       "      <th>auc_priv</th>\n",
       "      <th>auc_unpriv</th>\n",
       "    </tr>\n",
       "  </thead>\n",
       "  <tbody>\n",
       "    <tr>\n",
       "      <th>1</th>\n",
       "      <td>RF</td>\n",
       "      <td>transformed_gender</td>\n",
       "      <td>1</td>\n",
       "      <td>0.421053</td>\n",
       "      <td>0.445000</td>\n",
       "      <td>0.370370</td>\n",
       "      <td>0.758499</td>\n",
       "      <td>0.743056</td>\n",
       "      <td>0.782847</td>\n",
       "      <td>0.842545</td>\n",
       "      <td>0.82512</td>\n",
       "      <td>0.878647</td>\n",
       "    </tr>\n",
       "    <tr>\n",
       "      <th>3</th>\n",
       "      <td>dummy</td>\n",
       "      <td>transformed_gender</td>\n",
       "      <td>1</td>\n",
       "      <td>0.199773</td>\n",
       "      <td>0.234657</td>\n",
       "      <td>0.140673</td>\n",
       "      <td>0.500708</td>\n",
       "      <td>0.509259</td>\n",
       "      <td>0.487226</td>\n",
       "      <td>0.500000</td>\n",
       "      <td>0.50000</td>\n",
       "      <td>0.500000</td>\n",
       "    </tr>\n",
       "  </tbody>\n",
       "</table>\n",
       "</div>"
      ],
      "text/plain": [
       "   model             dataset unaware  f1_score  f1_score_priv  \\\n",
       "1     RF  transformed_gender       1  0.421053       0.445000   \n",
       "3  dummy  transformed_gender       1  0.199773       0.234657   \n",
       "\n",
       "   f1_score_unpriv  accuracy  accuracy_priv  accuracy_unpriv       auc  \\\n",
       "1         0.370370  0.758499       0.743056         0.782847  0.842545   \n",
       "3         0.140673  0.500708       0.509259         0.487226  0.500000   \n",
       "\n",
       "   auc_priv  auc_unpriv  \n",
       "1   0.82512    0.878647  \n",
       "3   0.50000    0.500000  "
      ]
     },
     "execution_count": 18,
     "metadata": {},
     "output_type": "execute_result"
    }
   ],
   "source": [
    "results_per_group_gender.loc[results_per_group_school['unaware']==1,:].sort_values(by='f1_score', ascending=False)"
   ]
  },
  {
   "cell_type": "markdown",
   "metadata": {},
   "source": [
    "# Fairness Metrics\n",
    "Let measure the fairness metrics for each model. "
   ]
  },
  {
   "cell_type": "code",
   "execution_count": 19,
   "metadata": {},
   "outputs": [
    {
     "data": {
      "text/plain": [
       "dict_keys(['transformed_aware', 'transformed_gender', 'transformed_public_school'])"
      ]
     },
     "execution_count": 19,
     "metadata": {},
     "output_type": "execute_result"
    }
   ],
   "source": [
    "datasets_test.keys()"
   ]
  },
  {
   "cell_type": "code",
   "execution_count": 20,
   "metadata": {},
   "outputs": [
    {
     "name": "stdout",
     "output_type": "stream",
     "text": [
      "\n",
      "Running for RF model:\n",
      "  Evaluating for transformed_aware datasets...\n",
      "  Evaluating for transformed_gender datasets...\n",
      "  Evaluating for transformed_public_school datasets...\n",
      "\n",
      "Running for dummy model:\n",
      "  Evaluating for transformed_aware datasets...\n",
      "  Evaluating for transformed_gender datasets...\n",
      "  Evaluating for transformed_public_school datasets...\n"
     ]
    }
   ],
   "source": [
    "results_fairness_gender = pd.DataFrame(columns = ['model', 'dataset', 'fairness_mitigation', 'f1', 'accuracy', 'auc', 'demographic_parity_dif', 'disparate_impact_rate', 'equal_opp_dif', 'equalized_odd_dif', 'sufficiency_dif'])\n",
    "results_fairness_school = pd.DataFrame(columns = ['model', 'dataset', 'fairness_mitigation', 'f1', 'accuracy', 'auc','demographic_parity_dif', 'disparate_impact_rate', 'equal_opp_dif', 'equalized_odd_dif', 'sufficiency_dif'])\n",
    "\n",
    "#Let call fairness_mitigation to: awarnessed, not awarnessed (not explicit only), feature selection, decomposition, decomposition and feature selection\n",
    "#Note: only awarnessed assumes explicit sensitive attriutbes\n",
    "\n",
    "#For truth ground we use y_test\n",
    "\n",
    "#Get train datasets and sensitive attributes\n",
    "for m in train_models:\n",
    "    #get grid of a specific model\n",
    "    grid_model = train_models[m]\n",
    "    print()\n",
    "    print('Running for {0} model:'.format(m))\n",
    "    \n",
    "    for ds in datasets_test:\n",
    "        print(\"  Evaluating for {0} datasets...\".format(ds))\n",
    "        ds_test = datasets_test[ds].toarray()\n",
    "        estimator_grid = grid_model[ds].best_estimator_[m]\n",
    "\n",
    "        #Identify sensitive attribute\n",
    "        gender = 0\n",
    "        school = 0\n",
    "        if ('gender' in ds) or ('aware' in ds):\n",
    "            gender = 1\n",
    "        if ('school' in ds) or ('aware' in ds):\n",
    "            school = 1\n",
    "                \n",
    "        #Identify fairness mitigation\n",
    "        fairness_mitigation = ''\n",
    "        if 'aware' in ds:\n",
    "            fairness_mitigation = 'aware'\n",
    "        else:\n",
    "            fairness_mitigation = 'unaware'\n",
    "\n",
    "        #Get Prediction\n",
    "        y_test_data = y_test\n",
    "                \n",
    "        prediction = estimator_grid.predict(ds_test)\n",
    "\n",
    "        #Getting Overall performances #Overall performances\n",
    "        f1 = f1_score(y_test_data, prediction)\n",
    "        auc = roc_auc_score(y_test_data, estimator_grid.predict_proba(ds_test)[:,1])\n",
    "        acc = accuracy_score(y_test_data, prediction)\n",
    "\n",
    "        #Evaluate Fairness metrics.\n",
    "        #Let asume we are evaluating based on demographic_parity_dif\n",
    "        if school == 1:\n",
    "            sens = A_test['public_school']\n",
    "            fairness_perfo_dpd = fm.demographic_parity_dif(prediction, sens, 0)\n",
    "            fairness_perfo_di = fm.disparate_impact_rate(prediction, sens, 0)-1\n",
    "            fairness_perfo_eopd = fm.equal_opp_dif(y_test_data, prediction, sens, 0)\n",
    "            fairness_perfo_eod = fm.equalized_odd_dif(y_test_data, prediction, sens, 0)\n",
    "            fairness_perfo_suff_dif = fm.sufficiency_dif(y_test_data, prediction, sens, 0)\n",
    "\n",
    "            new_res = {'model': m, 'dataset':ds, 'fairness_mitigation':fairness_mitigation, 'f1':f1, 'accuracy':acc, 'auc':auc, 'demographic_parity_dif':fairness_perfo_dpd, 'disparate_impact_rate':fairness_perfo_di, 'equal_opp_dif':fairness_perfo_eopd, 'equalized_odd_dif':fairness_perfo_eod, 'sufficiency_dif':fairness_perfo_suff_dif}\n",
    "            results_fairness_school=results_fairness_school.append(new_res, ignore_index=True)\n",
    "            \n",
    "        if gender == 1:\n",
    "            sens = A_test['gender']\n",
    "            fairness_perfo_dpd = fm.demographic_parity_dif(prediction, sens, 0)\n",
    "            fairness_perfo_di = fm.disparate_impact_rate(prediction, sens, 0)-1\n",
    "            fairness_perfo_eopd = fm.equal_opp_dif(y_test_data, prediction, sens, 0)\n",
    "            fairness_perfo_eod = fm.equalized_odd_dif(y_test_data, prediction, sens,0)\n",
    "            fairness_perfo_suff_dif = fm.sufficiency_dif(y_test_data, prediction, sens, 0)\n",
    "\n",
    "            new_res = {'model': m, 'dataset':ds, 'fairness_mitigation':fairness_mitigation, 'f1':f1, 'accuracy':acc, 'auc':auc, 'demographic_parity_dif':fairness_perfo_dpd, 'disparate_impact_rate':fairness_perfo_di, 'equal_opp_dif':fairness_perfo_eopd, 'equalized_odd_dif':fairness_perfo_eod, 'sufficiency_dif':fairness_perfo_suff_dif}\n",
    "            results_fairness_gender=results_fairness_gender.append(new_res, ignore_index=True)"
   ]
  },
  {
   "cell_type": "code",
   "execution_count": 21,
   "metadata": {},
   "outputs": [],
   "source": [
    "fairness_results = {'school': results_fairness_school,\n",
    "                   'gender': results_fairness_gender}"
   ]
  },
  {
   "cell_type": "code",
   "execution_count": 22,
   "metadata": {},
   "outputs": [],
   "source": [
    "#This pickles are for storing the results.\n",
    "with open('results/causal_3sem/fairness_results.pickle', 'wb') as f:\n",
    "    pickle.dump(fairness_results, f)"
   ]
  },
  {
   "cell_type": "code",
   "execution_count": 23,
   "metadata": {},
   "outputs": [],
   "source": [
    "#Run the following for open pickles\n",
    "with open('results/causal_3sem/fairness_results.pickle', 'rb') as f:\n",
    "    fairness_results = pickle.load(f)\n",
    "\n",
    "results_fairness_school = fairness_results['school']\n",
    "results_fairness_gender = fairness_results['gender']\n",
    "fairness_results = {'school': results_fairness_school,\n",
    "                   'gender': results_fairness_gender}"
   ]
  },
  {
   "cell_type": "code",
   "execution_count": 26,
   "metadata": {},
   "outputs": [
    {
     "data": {
      "image/png": "[encoded data removed]",
      "text/plain": [
       "<Figure size 432x288 with 1 Axes>"
      ]
     },
     "metadata": {},
     "output_type": "display_data"
    }
   ],
   "source": [
    "height_school = results_fairness_school.loc[[(x=='RF' and y=='aware') for x,y in list(zip(results_fairness_school['model'], results_fairness_school['fairness_mitigation']))],results_fairness_school.columns[[6,7,9]]].to_numpy().flatten()  \n",
    "x = ['demP', 'dispR', 'eqODD']\n",
    "\n",
    "plt.bar(x, height_school)\n",
    "plt.title('3rd Semester')\n",
    "plt.ylim([-.25,.6])\n",
    "plt.axhline(y=-.2, color = 'r')\n",
    "plt.axhline(y=.2, color=  'r')\n",
    "plt.show()"
   ]
  },
  {
   "cell_type": "code",
   "execution_count": 27,
   "metadata": {},
   "outputs": [
    {
     "data": {
      "image/png": "[encoded data removed]",
      "text/plain": [
       "<Figure size 432x288 with 1 Axes>"
      ]
     },
     "metadata": {},
     "output_type": "display_data"
    }
   ],
   "source": [
    "height_gender = results_fairness_gender.loc[[(x=='RF' and y=='aware') for x,y in list(zip(results_fairness_gender['model'], results_fairness_gender['fairness_mitigation']))],results_fairness_gender.columns[[6,7,9]]].to_numpy().flatten()  \n",
    "x = ['demP', 'dispR', 'eqODD']\n",
    "\n",
    "plt.bar(x, height_gender)\n",
    "plt.title('3rd Semester')\n",
    "plt.ylim([-.25,.6])\n",
    "plt.axhline(y=-.2, color = 'r')\n",
    "plt.axhline(y=.2, color=  'r')\n",
    "plt.show()"
   ]
  },
  {
   "cell_type": "markdown",
   "metadata": {},
   "source": [
    "# Implementing Pre-processing Fairness Mitigation"
   ]
  },
  {
   "cell_type": "code",
   "execution_count": 28,
   "metadata": {},
   "outputs": [],
   "source": [
    "aware_features.extend(['label'])"
   ]
  },
  {
   "cell_type": "code",
   "execution_count": 30,
   "metadata": {},
   "outputs": [],
   "source": [
    "from aif360.algorithms.preprocessing import DisparateImpactRemover\n",
    "from aif360.metrics import BinaryLabelDatasetMetric\n",
    "from aif360.datasets import StandardDataset\n",
    "from aif360.datasets import BinaryLabelDataset\n",
    "from tqdm import tqdm\n",
    "\n",
    "features_pd = pd.DataFrame(aware_features)\n",
    "ds_train = pd.DataFrame(datasets['transformed_aware'].toarray(), index=y_train.index)\n",
    "ds_train = pd.concat([ds_train, y_train], axis=1, ignore_index=False)\n",
    "ds_train.columns = aware_features\n",
    "\n",
    "ds_test = pd.DataFrame(datasets_test['transformed_aware'].toarray(), index=y_test.index)\n",
    "ds_test = pd.concat([ds_test, y_test], axis=1, ignore_index=False)\n",
    "ds_test.columns = aware_features\n",
    "\n",
    "\n",
    "train = BinaryLabelDataset(df=ds_train, favorable_label = 1, unfavorable_label = 0, label_names = ['label'], protected_attribute_names = ['public_school_1', 'gender_1'], unprivileged_protected_attributes = [[2.4184441881294765], [2.0481431222133515]], privileged_protected_attributes = [[0.], [0.]])\n",
    "test = BinaryLabelDataset(df=ds_test, favorable_label = 1, unfavorable_label = 0, label_names = ['label'], protected_attribute_names = ['public_school_1', 'gender_1'], unprivileged_protected_attributes = [[2.4184441881294765], [2.0481431222133515]], privileged_protected_attributes = [[0.], [0.]])\n",
    "y_train_data = y_train\n",
    "index_train = train.feature_names.index('public_school_1')\n",
    "index_test = test.feature_names.index('public_school_1')\n",
    "\n",
    "rf = train_models['RF']['transformed_aware'].best_estimator_['RF']"
   ]
  },
  {
   "cell_type": "code",
   "execution_count": 31,
   "metadata": {},
   "outputs": [
    {
     "name": "stderr",
     "output_type": "stream",
     "text": [
      "100%|██████████| 41/41 [01:16<00:00,  1.87s/it]\n"
     ]
    }
   ],
   "source": [
    "DIsgender = []\n",
    "for level in tqdm(np.linspace(0., 1., 41)):\n",
    "    di = DisparateImpactRemover(repair_level=level, sensitive_attribute='gender_1' )\n",
    "    train_repd = di.fit_transform(train)\n",
    "    test_repd = di.fit_transform(test)\n",
    "    \n",
    "    X_tr = np.delete(train_repd.features, index_train, axis=1)\n",
    "    X_te = np.delete(test_repd.features, index_test, axis=1)\n",
    "    y_tr = train_repd.labels.ravel()\n",
    "    \n",
    "    fit = rf.fit(X_tr, y_tr)\n",
    "    \n",
    "    test_repd_pred = test_repd.copy()\n",
    "    test_repd_pred.labels = fit.predict(X_te)\n",
    "\n",
    "    p = [{'gender_1':0}]\n",
    "    u = [{'gender_1':2.0481431222133515}]\n",
    "    cm = BinaryLabelDatasetMetric(test_repd_pred, privileged_groups=p, unprivileged_groups = u)\n",
    "    DIsgender.append(cm.disparate_impact()-1)"
   ]
  },
  {
   "cell_type": "code",
   "execution_count": 33,
   "metadata": {},
   "outputs": [
    {
     "data": {
      "text/plain": [
       "Text(0.5, 0, 'Repair Level')"
      ]
     },
     "execution_count": 33,
     "metadata": {},
     "output_type": "execute_result"
    },
    {
     "data": {
      "image/png": "[encoded data removed]",
      "text/plain": [
       "<Figure size 432x288 with 1 Axes>"
      ]
     },
     "metadata": {},
     "output_type": "display_data"
    }
   ],
   "source": [
    "plt.plot(np.linspace(0, 1, 41), DIsgender, marker='o')\n",
    "plt.plot([0, 1], [0, 0], 'g')\n",
    "plt.plot([0, 1], [-0.2, -0.2], 'r')\n",
    "plt.plot([0, 1], [0.2, 0.2], 'r')\n",
    "plt.ylim([-0.8, 0.8])\n",
    "plt.title('Gender Scenario (3rd Sem)')\n",
    "plt.ylabel('Disparate Impact Rate (dispR)')\n",
    "plt.xlabel('Repair Level')"
   ]
  },
  {
   "cell_type": "code",
   "execution_count": 34,
   "metadata": {},
   "outputs": [
    {
     "data": {
      "text/html": [
       "<div>\n",
       "<style scoped>\n",
       "    .dataframe tbody tr th:only-of-type {\n",
       "        vertical-align: middle;\n",
       "    }\n",
       "\n",
       "    .dataframe tbody tr th {\n",
       "        vertical-align: top;\n",
       "    }\n",
       "\n",
       "    .dataframe thead th {\n",
       "        text-align: right;\n",
       "    }\n",
       "</style>\n",
       "<table border=\"1\" class=\"dataframe\">\n",
       "  <thead>\n",
       "    <tr style=\"text-align: right;\">\n",
       "      <th></th>\n",
       "      <th>model</th>\n",
       "      <th>dataset</th>\n",
       "      <th>fairness_mitigation</th>\n",
       "      <th>f1</th>\n",
       "      <th>accuracy</th>\n",
       "      <th>auc</th>\n",
       "      <th>demographic_parity_dif</th>\n",
       "      <th>disparate_impact_rate</th>\n",
       "      <th>equal_opp_dif</th>\n",
       "      <th>equalized_odd_dif</th>\n",
       "      <th>sufficiency_dif</th>\n",
       "    </tr>\n",
       "  </thead>\n",
       "  <tbody>\n",
       "    <tr>\n",
       "      <th>2</th>\n",
       "      <td>dummy</td>\n",
       "      <td>transformed_aware</td>\n",
       "      <td>aware</td>\n",
       "      <td>0.173228</td>\n",
       "      <td>0.479462</td>\n",
       "      <td>0.500000</td>\n",
       "      <td>-0.013847</td>\n",
       "      <td>-0.026293</td>\n",
       "      <td>0.061133</td>\n",
       "      <td>0.005465</td>\n",
       "      <td>-0.036831</td>\n",
       "    </tr>\n",
       "    <tr>\n",
       "      <th>3</th>\n",
       "      <td>dummy</td>\n",
       "      <td>transformed_gender</td>\n",
       "      <td>unaware</td>\n",
       "      <td>0.196262</td>\n",
       "      <td>0.512748</td>\n",
       "      <td>0.500000</td>\n",
       "      <td>-0.011439</td>\n",
       "      <td>-0.022772</td>\n",
       "      <td>0.129344</td>\n",
       "      <td>0.020499</td>\n",
       "      <td>-0.030965</td>\n",
       "    </tr>\n",
       "    <tr>\n",
       "      <th>0</th>\n",
       "      <td>RF</td>\n",
       "      <td>transformed_aware</td>\n",
       "      <td>aware</td>\n",
       "      <td>0.426573</td>\n",
       "      <td>0.767705</td>\n",
       "      <td>0.844638</td>\n",
       "      <td>-0.061478</td>\n",
       "      <td>-0.191757</td>\n",
       "      <td>0.016731</td>\n",
       "      <td>0.118990</td>\n",
       "      <td>-0.078253</td>\n",
       "    </tr>\n",
       "    <tr>\n",
       "      <th>1</th>\n",
       "      <td>RF</td>\n",
       "      <td>transformed_gender</td>\n",
       "      <td>unaware</td>\n",
       "      <td>0.421053</td>\n",
       "      <td>0.758499</td>\n",
       "      <td>0.842545</td>\n",
       "      <td>-0.066243</td>\n",
       "      <td>-0.198040</td>\n",
       "      <td>0.031532</td>\n",
       "      <td>0.123584</td>\n",
       "      <td>-0.069863</td>\n",
       "    </tr>\n",
       "    <tr>\n",
       "      <th>4</th>\n",
       "      <td>RF</td>\n",
       "      <td>transformed_aware</td>\n",
       "      <td>DisparateImpactRemover</td>\n",
       "      <td>0.415301</td>\n",
       "      <td>0.772663</td>\n",
       "      <td>0.832869</td>\n",
       "      <td>-0.028893</td>\n",
       "      <td>-0.099062</td>\n",
       "      <td>0.055985</td>\n",
       "      <td>0.096166</td>\n",
       "      <td>-0.092262</td>\n",
       "    </tr>\n",
       "  </tbody>\n",
       "</table>\n",
       "</div>"
      ],
      "text/plain": [
       "   model             dataset     fairness_mitigation        f1  accuracy  \\\n",
       "2  dummy   transformed_aware                   aware  0.173228  0.479462   \n",
       "3  dummy  transformed_gender                 unaware  0.196262  0.512748   \n",
       "0     RF   transformed_aware                   aware  0.426573  0.767705   \n",
       "1     RF  transformed_gender                 unaware  0.421053  0.758499   \n",
       "4     RF   transformed_aware  DisparateImpactRemover  0.415301  0.772663   \n",
       "\n",
       "        auc  demographic_parity_dif  disparate_impact_rate  equal_opp_dif  \\\n",
       "2  0.500000               -0.013847              -0.026293       0.061133   \n",
       "3  0.500000               -0.011439              -0.022772       0.129344   \n",
       "0  0.844638               -0.061478              -0.191757       0.016731   \n",
       "1  0.842545               -0.066243              -0.198040       0.031532   \n",
       "4  0.832869               -0.028893              -0.099062       0.055985   \n",
       "\n",
       "   equalized_odd_dif  sufficiency_dif  \n",
       "2           0.005465        -0.036831  \n",
       "3           0.020499        -0.030965  \n",
       "0           0.118990        -0.078253  \n",
       "1           0.123584        -0.069863  \n",
       "4           0.096166        -0.092262  "
      ]
     },
     "execution_count": 34,
     "metadata": {},
     "output_type": "execute_result"
    }
   ],
   "source": [
    "di = DisparateImpactRemover(repair_level=np.linspace(0., 1., 41)[np.where(DIsgender==max(DIsgender))[0][0]], sensitive_attribute='gender_1' )\n",
    "rf_disp_imp = train_models['RF']['transformed_aware'].best_estimator_['RF']  \n",
    "\n",
    "train_repd = di.fit_transform(train)\n",
    "test_repd = di.fit_transform(test)  \n",
    "    \n",
    "X_tr = np.delete(train_repd.features, index_train, axis=1)\n",
    "X_te = np.delete(test_repd.features, index_test, axis=1)\n",
    "y_tr = train_repd.labels.ravel()\n",
    "    \n",
    "fit = rf_disp_imp.fit(X_tr, y_tr)\n",
    "fit_public_school = fit\n",
    "\n",
    "test_repd_pred = test_repd.copy()\n",
    "test_repd_pred.labels = rf_disp_imp.predict(X_te)\n",
    "\n",
    "prediction = test_repd_pred.labels\n",
    "sens = A_test['gender']\n",
    "y_test_data = test_repd.labels.ravel()\n",
    "\n",
    "fairness_perfo_dpd = fm.demographic_parity_dif(prediction, sens, 0)\n",
    "fairness_perfo_di = fm.disparate_impact_rate(prediction, sens, 0)-1\n",
    "fairness_perfo_eopd = fm.equal_opp_dif(y_test_data, prediction, sens, 0)\n",
    "fairness_perfo_eod = fm.equalized_odd_dif(y_test_data, prediction, sens,0)\n",
    "fairness_perfo_suff_dif = fm.sufficiency_dif(y_test_data, prediction, sens, 0)\n",
    "\n",
    "f1 = f1_score(y_test_data, prediction)\n",
    "auc = roc_auc_score(y_test_data, rf.predict_proba(X_te)[:,1])\n",
    "acc = accuracy_score(y_test_data, prediction)\n",
    "\n",
    "A_fairness = A_test['gender']\n",
    "y_pred_prob = rf_disp_imp.predict_proba(X_te)[:,1]\n",
    "\n",
    "f1_gend_f = f1_score(y_test_data[A_fairness==1], prediction[np.where(A_fairness==1)])\n",
    "f1_gend_m = f1_score(y_test_data[A_fairness==0], prediction[np.where(A_fairness==0)])\n",
    "\n",
    "auc_gend_f = roc_auc_score(y_test_data[A_fairness==1], y_pred_prob[np.where(A_fairness==1)])\n",
    "auc_gend_m = roc_auc_score(y_test_data[A_fairness==0], y_pred_prob[np.where(A_fairness==0)])\n",
    "\n",
    "acc_f = accuracy_score(y_test_data[A_fairness==1], prediction[np.where(A_fairness==1)])\n",
    "acc_m = accuracy_score(y_test_data[A_fairness==0], prediction[np.where(A_fairness==0)])\n",
    "\n",
    "r_gender = {'model': 'RF', 'dataset':'transformed_aware', 'unaware': 'DisparateImpactRemover','f1_score': f1, 'f1_score_priv':f1_gend_m, 'f1_score_unpriv':f1_gend_f, 'accuracy':acc ,'accuracy_priv': acc_m,'accuracy_unpriv':acc_f , 'auc': auc, 'auc_priv': auc_gend_m, 'auc_unpriv': auc_gend_f}\n",
    "results_per_group_gender = results_per_group_gender.append(r_gender, ignore_index = True)\n",
    "results_per_group_gender.loc[results_per_group_gender['model']=='RF',:]\n",
    "\n",
    "new_res = {'model': 'RF', 'dataset': 'transformed_aware', 'fairness_mitigation': 'DisparateImpactRemover', 'f1':f1, 'accuracy':acc, 'auc':auc, 'demographic_parity_dif':fairness_perfo_dpd, 'disparate_impact_rate':fairness_perfo_di, 'equal_opp_dif':fairness_perfo_eopd, 'equalized_odd_dif':fairness_perfo_eod, 'sufficiency_dif':fairness_perfo_suff_dif}\n",
    "results_fairness_gender=results_fairness_gender.append(new_res, ignore_index=True)\n",
    "results_fairness_gender.sort_values(by='model', ascending=False)"
   ]
  },
  {
   "cell_type": "code",
   "execution_count": 35,
   "metadata": {},
   "outputs": [
    {
     "name": "stderr",
     "output_type": "stream",
     "text": [
      "Matplotlib is currently using agg, which is a non-GUI backend, so cannot show the figure.\n"
     ]
    },
    {
     "data": {
      "image/png": "[encoded data removed]",
      "text/plain": [
       "<Figure size 432x288 with 1 Axes>"
      ]
     },
     "metadata": {},
     "output_type": "display_data"
    }
   ],
   "source": [
    "labels = ['demP', 'dispR', 'eqODD']\n",
    "x = np.arange(len(labels))  # the label locations\n",
    "width = .2  # the width of the bars\n",
    "height_aware = results_fairness_gender.loc[[(x=='RF' and y=='aware') for x,y in list(zip(results_fairness_gender['model'], results_fairness_gender['fairness_mitigation']))],results_fairness_gender.columns[[6,7,9]]].to_numpy().flatten()  \n",
    "height_unaware = results_fairness_gender.loc[[(x=='RF' and y=='unaware') for x,y in list(zip(results_fairness_gender['model'], results_fairness_gender['fairness_mitigation']))],results_fairness_gender.columns[[6,7,9]]].to_numpy().flatten()  \n",
    "height_dimpr = results_fairness_gender.loc[[(x=='RF' and y=='DisparateImpactRemover') for x,y in list(zip(results_fairness_gender['model'], results_fairness_gender['fairness_mitigation']))],results_fairness_gender.columns[[6,7,9]]].to_numpy().flatten()  \n",
    "\n",
    "fig, ax = plt.subplots()\n",
    "rects1 = ax.bar(x - width, height_aware, width, label='Aware')\n",
    "rects2 = ax.bar(x, height_unaware, width, label='Unaware')\n",
    "rects3 = ax.bar(x + width, height_dimpr, width, label='DispImpact Remover')\n",
    "\n",
    "ax.axhline(y=-.2, color = 'r')\n",
    "ax.axhline(y=.2, color=  'r')\n",
    "ax.set_ylim([-.3, 0.7])\n",
    "\n",
    "ax.set_ylabel('Scores')\n",
    "ax.set_title('Fairness Metrics - Gender Scenario')\n",
    "ax.set_xticks(x)\n",
    "ax.set_xticklabels(labels)\n",
    "ax.legend()\n",
    "\n",
    "plt.show()"
   ]
  },
  {
   "cell_type": "markdown",
   "metadata": {},
   "source": [
    "Now move to public school"
   ]
  },
  {
   "cell_type": "code",
   "execution_count": 36,
   "metadata": {},
   "outputs": [
    {
     "name": "stderr",
     "output_type": "stream",
     "text": [
      "100%|██████████| 41/41 [01:10<00:00,  1.72s/it]\n"
     ]
    }
   ],
   "source": [
    "DIsschool = []\n",
    "for level in tqdm(np.linspace(0., 1., 41)):\n",
    "    di = DisparateImpactRemover(repair_level=level, sensitive_attribute='public_school_1' )\n",
    "    train_repd = di.fit_transform(train)\n",
    "    test_repd = di.fit_transform(test)\n",
    "    \n",
    "    X_tr = np.delete(train_repd.features, index_train, axis=1)\n",
    "    X_te = np.delete(test_repd.features, index_test, axis=1)\n",
    "    y_tr = train_repd.labels.ravel()\n",
    "    \n",
    "    fit = rf.fit(X_tr, y_tr)\n",
    "    \n",
    "    test_repd_pred = test_repd.copy()\n",
    "    test_repd_pred.labels = fit.predict(X_te)\n",
    "\n",
    "    p = [{'public_school_1':0}]\n",
    "    u = [{'public_school_1':2.4184441881294765}]\n",
    "    cm = BinaryLabelDatasetMetric(test_repd_pred, privileged_groups=p, unprivileged_groups = u)\n",
    "    DIsschool.append(cm.disparate_impact()-1)\n"
   ]
  },
  {
   "cell_type": "code",
   "execution_count": 38,
   "metadata": {},
   "outputs": [
    {
     "name": "stderr",
     "output_type": "stream",
     "text": [
      "Matplotlib is currently using agg, which is a non-GUI backend, so cannot show the figure.\n"
     ]
    },
    {
     "data": {
      "image/png": "[encoded data removed]",
      "text/plain": [
       "<Figure size 432x288 with 1 Axes>"
      ]
     },
     "metadata": {},
     "output_type": "display_data"
    }
   ],
   "source": [
    "plt.plot(np.linspace(0, 1, 41), DIsschool, marker='o')\n",
    "plt.plot([0, 1], [0, 0], 'g')\n",
    "plt.plot([0, 1], [-0.2, -0.2], 'r')\n",
    "plt.plot([0, 1], [0.2, 0.2], 'r')\n",
    "plt.ylim([-0.8, 0.8])\n",
    "plt.title('School Type Scenario (3rd Sem)')\n",
    "plt.ylabel('Disparate Impact Rate (dispR)')\n",
    "plt.xlabel('Repair Level')\n",
    "\n",
    "plt.show()"
   ]
  },
  {
   "cell_type": "code",
   "execution_count": 39,
   "metadata": {},
   "outputs": [
    {
     "data": {
      "text/html": [
       "<div>\n",
       "<style scoped>\n",
       "    .dataframe tbody tr th:only-of-type {\n",
       "        vertical-align: middle;\n",
       "    }\n",
       "\n",
       "    .dataframe tbody tr th {\n",
       "        vertical-align: top;\n",
       "    }\n",
       "\n",
       "    .dataframe thead th {\n",
       "        text-align: right;\n",
       "    }\n",
       "</style>\n",
       "<table border=\"1\" class=\"dataframe\">\n",
       "  <thead>\n",
       "    <tr style=\"text-align: right;\">\n",
       "      <th></th>\n",
       "      <th>model</th>\n",
       "      <th>dataset</th>\n",
       "      <th>fairness_mitigation</th>\n",
       "      <th>f1</th>\n",
       "      <th>accuracy</th>\n",
       "      <th>auc</th>\n",
       "      <th>demographic_parity_dif</th>\n",
       "      <th>disparate_impact_rate</th>\n",
       "      <th>equal_opp_dif</th>\n",
       "      <th>equalized_odd_dif</th>\n",
       "      <th>sufficiency_dif</th>\n",
       "    </tr>\n",
       "  </thead>\n",
       "  <tbody>\n",
       "    <tr>\n",
       "      <th>2</th>\n",
       "      <td>dummy</td>\n",
       "      <td>transformed_aware</td>\n",
       "      <td>aware</td>\n",
       "      <td>0.173228</td>\n",
       "      <td>0.479462</td>\n",
       "      <td>0.500000</td>\n",
       "      <td>0.004661</td>\n",
       "      <td>0.008961</td>\n",
       "      <td>-0.148148</td>\n",
       "      <td>-0.011106</td>\n",
       "      <td>0.033176</td>\n",
       "    </tr>\n",
       "    <tr>\n",
       "      <th>3</th>\n",
       "      <td>dummy</td>\n",
       "      <td>transformed_public_school</td>\n",
       "      <td>unaware</td>\n",
       "      <td>0.162162</td>\n",
       "      <td>0.495042</td>\n",
       "      <td>0.500000</td>\n",
       "      <td>-0.008753</td>\n",
       "      <td>-0.017635</td>\n",
       "      <td>-0.038721</td>\n",
       "      <td>-0.007717</td>\n",
       "      <td>0.061469</td>\n",
       "    </tr>\n",
       "    <tr>\n",
       "      <th>0</th>\n",
       "      <td>RF</td>\n",
       "      <td>transformed_aware</td>\n",
       "      <td>aware</td>\n",
       "      <td>0.426573</td>\n",
       "      <td>0.767705</td>\n",
       "      <td>0.844638</td>\n",
       "      <td>0.110428</td>\n",
       "      <td>0.406643</td>\n",
       "      <td>0.084175</td>\n",
       "      <td>0.106514</td>\n",
       "      <td>0.117227</td>\n",
       "    </tr>\n",
       "    <tr>\n",
       "      <th>1</th>\n",
       "      <td>RF</td>\n",
       "      <td>transformed_public_school</td>\n",
       "      <td>unaware</td>\n",
       "      <td>0.416382</td>\n",
       "      <td>0.757790</td>\n",
       "      <td>0.840697</td>\n",
       "      <td>0.085515</td>\n",
       "      <td>0.297799</td>\n",
       "      <td>0.026936</td>\n",
       "      <td>0.102552</td>\n",
       "      <td>0.117465</td>\n",
       "    </tr>\n",
       "    <tr>\n",
       "      <th>4</th>\n",
       "      <td>RF</td>\n",
       "      <td>transformed_aware</td>\n",
       "      <td>DisparateImpactRemover</td>\n",
       "      <td>0.416667</td>\n",
       "      <td>0.762040</td>\n",
       "      <td>0.841211</td>\n",
       "      <td>0.062505</td>\n",
       "      <td>0.219069</td>\n",
       "      <td>0.047138</td>\n",
       "      <td>0.100294</td>\n",
       "      <td>0.148484</td>\n",
       "    </tr>\n",
       "  </tbody>\n",
       "</table>\n",
       "</div>"
      ],
      "text/plain": [
       "   model                    dataset     fairness_mitigation        f1  \\\n",
       "2  dummy          transformed_aware                   aware  0.173228   \n",
       "3  dummy  transformed_public_school                 unaware  0.162162   \n",
       "0     RF          transformed_aware                   aware  0.426573   \n",
       "1     RF  transformed_public_school                 unaware  0.416382   \n",
       "4     RF          transformed_aware  DisparateImpactRemover  0.416667   \n",
       "\n",
       "   accuracy       auc  demographic_parity_dif  disparate_impact_rate  \\\n",
       "2  0.479462  0.500000                0.004661               0.008961   \n",
       "3  0.495042  0.500000               -0.008753              -0.017635   \n",
       "0  0.767705  0.844638                0.110428               0.406643   \n",
       "1  0.757790  0.840697                0.085515               0.297799   \n",
       "4  0.762040  0.841211                0.062505               0.219069   \n",
       "\n",
       "   equal_opp_dif  equalized_odd_dif  sufficiency_dif  \n",
       "2      -0.148148          -0.011106         0.033176  \n",
       "3      -0.038721          -0.007717         0.061469  \n",
       "0       0.084175           0.106514         0.117227  \n",
       "1       0.026936           0.102552         0.117465  \n",
       "4       0.047138           0.100294         0.148484  "
      ]
     },
     "execution_count": 39,
     "metadata": {},
     "output_type": "execute_result"
    }
   ],
   "source": [
    "di = DisparateImpactRemover(repair_level=np.linspace(0., 1., 41)[np.where(DIsschool==min(DIsschool))[0][0]], sensitive_attribute='public_school_1' )\n",
    "rf = train_models['RF']['transformed_aware'].best_estimator_['RF']  \n",
    "\n",
    "train_repd = di.fit_transform(train)\n",
    "test_repd = di.fit_transform(test)  \n",
    "    \n",
    "X_tr = np.delete(train_repd.features, index_train, axis=1)\n",
    "X_te = np.delete(test_repd.features, index_test, axis=1)\n",
    "y_tr = train_repd.labels.ravel()\n",
    "    \n",
    "    \n",
    "fit = rf.fit(X_tr, y_tr)\n",
    "fit_public_school = fit\n",
    "\n",
    "test_repd_pred = test_repd.copy()\n",
    "test_repd_pred.labels = rf.predict(X_te)\n",
    "\n",
    "prediction = test_repd_pred.labels\n",
    "sens = A_test['public_school']\n",
    "y_test_data = test_repd.labels.ravel()\n",
    "\n",
    "fairness_perfo_dpd = fm.demographic_parity_dif(prediction, sens, 0)\n",
    "fairness_perfo_di = fm.disparate_impact_rate(prediction, sens, 0)-1\n",
    "fairness_perfo_eopd = fm.equal_opp_dif(y_test_data, prediction, sens, 0)\n",
    "fairness_perfo_eod = fm.equalized_odd_dif(y_test_data, prediction, sens,0)\n",
    "fairness_perfo_suff_dif = fm.sufficiency_dif(y_test_data, prediction, sens, 0)\n",
    "\n",
    "f1 = f1_score(y_test_data, prediction)\n",
    "auc = roc_auc_score(y_test_data, rf.predict_proba(X_te)[:,1])\n",
    "acc = accuracy_score(y_test_data, prediction)\n",
    "\n",
    "new_res = {'model': 'RF', 'dataset': 'transformed_aware', 'fairness_mitigation': 'DisparateImpactRemover', 'f1':f1, 'accuracy':acc, 'auc':auc, 'demographic_parity_dif':fairness_perfo_dpd, 'disparate_impact_rate':fairness_perfo_di, 'equal_opp_dif':fairness_perfo_eopd, 'equalized_odd_dif':fairness_perfo_eod, 'sufficiency_dif':fairness_perfo_suff_dif}\n",
    "results_fairness_school=results_fairness_school.append(new_res, ignore_index=True)\n",
    "results_fairness_school.sort_values(by='model', ascending=False)"
   ]
  },
  {
   "cell_type": "code",
   "execution_count": 40,
   "metadata": {},
   "outputs": [
    {
     "data": {
      "text/html": [
       "<div>\n",
       "<style scoped>\n",
       "    .dataframe tbody tr th:only-of-type {\n",
       "        vertical-align: middle;\n",
       "    }\n",
       "\n",
       "    .dataframe tbody tr th {\n",
       "        vertical-align: top;\n",
       "    }\n",
       "\n",
       "    .dataframe thead th {\n",
       "        text-align: right;\n",
       "    }\n",
       "</style>\n",
       "<table border=\"1\" class=\"dataframe\">\n",
       "  <thead>\n",
       "    <tr style=\"text-align: right;\">\n",
       "      <th></th>\n",
       "      <th>model</th>\n",
       "      <th>dataset</th>\n",
       "      <th>unaware</th>\n",
       "      <th>f1_score</th>\n",
       "      <th>f1_score_priv</th>\n",
       "      <th>f1_score_unpriv</th>\n",
       "      <th>accuracy</th>\n",
       "      <th>accuracy_priv</th>\n",
       "      <th>accuracy_unpriv</th>\n",
       "      <th>auc</th>\n",
       "      <th>auc_priv</th>\n",
       "      <th>auc_unpriv</th>\n",
       "    </tr>\n",
       "  </thead>\n",
       "  <tbody>\n",
       "    <tr>\n",
       "      <th>0</th>\n",
       "      <td>RF</td>\n",
       "      <td>transformed_aware</td>\n",
       "      <td>0</td>\n",
       "      <td>0.426573</td>\n",
       "      <td>0.384810</td>\n",
       "      <td>0.519774</td>\n",
       "      <td>0.767705</td>\n",
       "      <td>0.777064</td>\n",
       "      <td>0.736025</td>\n",
       "      <td>0.844638</td>\n",
       "      <td>0.841911</td>\n",
       "      <td>0.832090</td>\n",
       "    </tr>\n",
       "    <tr>\n",
       "      <th>1</th>\n",
       "      <td>RF</td>\n",
       "      <td>transformed_public_school</td>\n",
       "      <td>1</td>\n",
       "      <td>0.416382</td>\n",
       "      <td>0.378641</td>\n",
       "      <td>0.505747</td>\n",
       "      <td>0.757790</td>\n",
       "      <td>0.765138</td>\n",
       "      <td>0.732919</td>\n",
       "      <td>0.840697</td>\n",
       "      <td>0.838078</td>\n",
       "      <td>0.828358</td>\n",
       "    </tr>\n",
       "    <tr>\n",
       "      <th>4</th>\n",
       "      <td>RF</td>\n",
       "      <td>transformed_aware</td>\n",
       "      <td>DisparateImpactRemover</td>\n",
       "      <td>0.416667</td>\n",
       "      <td>0.370732</td>\n",
       "      <td>0.530120</td>\n",
       "      <td>0.762040</td>\n",
       "      <td>0.763303</td>\n",
       "      <td>0.757764</td>\n",
       "      <td>0.841211</td>\n",
       "      <td>0.837354</td>\n",
       "      <td>0.839345</td>\n",
       "    </tr>\n",
       "  </tbody>\n",
       "</table>\n",
       "</div>"
      ],
      "text/plain": [
       "  model                    dataset                 unaware  f1_score  \\\n",
       "0    RF          transformed_aware                       0  0.426573   \n",
       "1    RF  transformed_public_school                       1  0.416382   \n",
       "4    RF          transformed_aware  DisparateImpactRemover  0.416667   \n",
       "\n",
       "   f1_score_priv  f1_score_unpriv  accuracy  accuracy_priv  accuracy_unpriv  \\\n",
       "0       0.384810         0.519774  0.767705       0.777064         0.736025   \n",
       "1       0.378641         0.505747  0.757790       0.765138         0.732919   \n",
       "4       0.370732         0.530120  0.762040       0.763303         0.757764   \n",
       "\n",
       "        auc  auc_priv  auc_unpriv  \n",
       "0  0.844638  0.841911    0.832090  \n",
       "1  0.840697  0.838078    0.828358  \n",
       "4  0.841211  0.837354    0.839345  "
      ]
     },
     "execution_count": 40,
     "metadata": {},
     "output_type": "execute_result"
    }
   ],
   "source": [
    "A_fairness = A_test['public_school']\n",
    "y_pred_prob = rf.predict_proba(X_te)[:,1]\n",
    "\n",
    "f1_gend_f = f1_score(y_test_data[A_fairness==1], prediction[np.where(A_fairness==1)])\n",
    "f1_gend_m = f1_score(y_test_data[A_fairness==0], prediction[np.where(A_fairness==0)])\n",
    "\n",
    "auc_gend_f = roc_auc_score(y_test_data[A_fairness==1], y_pred_prob[np.where(A_fairness==1)])\n",
    "auc_gend_m = roc_auc_score(y_test_data[A_fairness==0], y_pred_prob[np.where(A_fairness==0)])\n",
    "\n",
    "acc_f = accuracy_score(y_test_data[A_fairness==1], prediction[np.where(A_fairness==1)])\n",
    "acc_m = accuracy_score(y_test_data[A_fairness==0], prediction[np.where(A_fairness==0)])\n",
    "\n",
    "r_school = {'model': 'RF', 'dataset':'transformed_aware', 'unaware': 'DisparateImpactRemover','f1_score': f1, 'f1_score_priv':f1_gend_m, 'f1_score_unpriv':f1_gend_f, 'accuracy':acc ,'accuracy_priv': acc_m,'accuracy_unpriv':acc_f , 'auc': auc, 'auc_priv': auc_gend_m, 'auc_unpriv': auc_gend_f}\n",
    "results_per_group_school = results_per_group_school.append(r_school, ignore_index = True)\n",
    "results_per_group_school.loc[results_per_group_school['model']=='RF',:]"
   ]
  },
  {
   "cell_type": "code",
   "execution_count": 41,
   "metadata": {},
   "outputs": [
    {
     "data": {
      "image/png": "[encoded data removed]",
      "text/plain": [
       "<Figure size 432x288 with 1 Axes>"
      ]
     },
     "metadata": {},
     "output_type": "display_data"
    }
   ],
   "source": [
    "labels = ['demP', 'dispR', 'eqODD']\n",
    "x = np.arange(len(labels))  # the label locations\n",
    "width = .2  # the width of the bars\n",
    "height_aware = results_fairness_school.loc[[(x=='RF' and y=='aware') for x,y in list(zip(results_fairness_school['model'], results_fairness_school['fairness_mitigation']))],results_fairness_school.columns[[6,7,9]]].to_numpy().flatten()  \n",
    "height_unaware = results_fairness_school.loc[[(x=='RF' and y=='unaware') for x,y in list(zip(results_fairness_school['model'], results_fairness_school['fairness_mitigation']))],results_fairness_school.columns[[6,7,9]]].to_numpy().flatten()  \n",
    "height_dimpr = results_fairness_school.loc[[(x=='RF' and y=='DisparateImpactRemover') for x,y in list(zip(results_fairness_school['model'], results_fairness_school['fairness_mitigation']))],results_fairness_school.columns[[6,7,9]]].to_numpy().flatten()  \n",
    "\n",
    "fig, ax = plt.subplots()\n",
    "rects1 = ax.bar(x - width, height_aware, width, label='Aware')\n",
    "rects2 = ax.bar(x, height_unaware, width, label='Unaware')\n",
    "rects3 = ax.bar(x + width, height_dimpr, width, label='DispImpact Remover')\n",
    "\n",
    "ax.axhline(y=-.2, color = 'r')\n",
    "ax.axhline(y=.2, color=  'r')\n",
    "ax.set_ylim([-.3, 0.7])\n",
    "\n",
    "ax.set_ylabel('Scores')\n",
    "ax.set_title('Fairness Metrics - School Type Scenario')\n",
    "ax.set_xticks(x)\n",
    "ax.set_xticklabels(labels)\n",
    "ax.legend()\n",
    "\n",
    "\n",
    "plt.savefig('final_results_school_3rdsem.png')"
   ]
  },
  {
   "cell_type": "markdown",
   "metadata": {},
   "source": [
    "# Feature Importance"
   ]
  },
  {
   "cell_type": "code",
   "execution_count": 48,
   "metadata": {},
   "outputs": [],
   "source": [
    "importances = rf_disp_imp.feature_importances_\n",
    "std = np.std([\n",
    "    tree.feature_importances_ for tree in rf_disp_imp.estimators_], axis=0)\n",
    "elapsed_time = time.time() - start_time"
   ]
  },
  {
   "cell_type": "code",
   "execution_count": 49,
   "metadata": {},
   "outputs": [
    {
     "data": {
      "image/png": "[encoded data removed]",
      "text/plain": [
       "<Figure size 360x360 with 1 Axes>"
      ]
     },
     "metadata": {},
     "output_type": "display_data"
    }
   ],
   "source": [
    "importances = pd.DataFrame(importances, columns = ['importance'], index=train_repd.feature_names[:55])\n",
    "std = pd.DataFrame(std, columns = ['std'], index=train_repd.feature_names[:55])\n",
    "forest_importances = pd.concat([importances, std], axis = 1)\n",
    "\n",
    "fig, ax = plt.subplots(figsize=(5, 5))\n",
    "forest_importances.sort_values(by='importance', ascending=True)['importance'][45:].plot.barh(ax=ax)\n",
    "ax.set_title(\"Feature importances using MDI-Gender\")\n",
    "ax.set_ylabel(\"Mean decrease in impurity\")\n",
    "fig.tight_layout()"
   ]
  },
  {
   "cell_type": "code",
   "execution_count": 50,
   "metadata": {},
   "outputs": [],
   "source": [
    "importances = rf.feature_importances_\n",
    "std = np.std([\n",
    "    tree.feature_importances_ for tree in rf.estimators_], axis=0)"
   ]
  },
  {
   "cell_type": "code",
   "execution_count": 51,
   "metadata": {},
   "outputs": [
    {
     "data": {
      "image/png": "[encoded data removed]",
      "text/plain": [
       "<Figure size 360x360 with 1 Axes>"
      ]
     },
     "metadata": {},
     "output_type": "display_data"
    }
   ],
   "source": [
    "importances = pd.DataFrame(importances, columns = ['importance'], index=train_repd.feature_names[:55])\n",
    "std = pd.DataFrame(std, columns = ['std'], index=train_repd.feature_names[:55])\n",
    "forest_importances = pd.concat([importances, std], axis = 1)\n",
    "\n",
    "fig, ax = plt.subplots(figsize=(5, 5))\n",
    "forest_importances.sort_values(by='importance', ascending=True)['importance'][45:].plot.barh(ax=ax)\n",
    "ax.set_title(\"Feature importances using MDI-school\")\n",
    "ax.set_ylabel(\"Mean decrease in impurity\")\n",
    "fig.tight_layout()"
   ]
  }
 ],
 "metadata": {
  "kernelspec": {
   "display_name": "Python 3",
   "language": "python",
   "name": "python3"
  },
  "language_info": {
   "codemirror_mode": {
    "name": "ipython",
    "version": 3
   },
   "file_extension": ".py",
   "mimetype": "text/x-python",
   "name": "python",
   "nbconvert_exporter": "python",
   "pygments_lexer": "ipython3",
   "version": "3.8.5"
  }
 },
 "nbformat": 4,
 "nbformat_minor": 4
}
