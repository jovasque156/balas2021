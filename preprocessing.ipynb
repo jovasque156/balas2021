{
 "cells": [
  {
   "cell_type": "code",
   "execution_count": 2,
   "metadata": {},
   "outputs": [],
   "source": [
    "#Importing Libraries\n",
    "#Data Handling\n",
    "import pandas as pd\n",
    "import numpy as np\n",
    "import sklearn\n",
    "import math\n",
    "\n",
    "#plotting\n",
    "import matplotlib.pyplot as plt\n",
    "from ipywidgets import interact, interactive, fixed, interact_manual\n",
    "from IPython.display import Markdown, display\n",
    "import ipywidgets as widgets\n",
    "import seaborn as sns\n",
    "sns.set()\n",
    "\n",
    "#Pipelines\n",
    "from source import *\n",
    "import source.fairness as fm\n",
    "import source.pipes as op\n",
    "\n",
    "#Sampling\n",
    "from sklearn.model_selection import train_test_split\n",
    "\n",
    "#Storing trains\n",
    "import pickle"
   ]
  },
  {
   "cell_type": "code",
   "execution_count": 3,
   "metadata": {},
   "outputs": [],
   "source": [
    "ds = pd.read_csv('dataset/final_dataset.csv', sep = ',', index_col = 0)"
   ]
  },
  {
   "cell_type": "code",
   "execution_count": 4,
   "metadata": {},
   "outputs": [],
   "source": [
    "ds['UD_Reprobadas_Primer_Semestre'] = ds['UD_Reprobadas_Primer_Semestre'].astype(np.float64)"
   ]
  },
  {
   "cell_type": "code",
   "execution_count": 5,
   "metadata": {},
   "outputs": [],
   "source": [
    "#Selecting useful variables\n",
    "Y = ds.iloc[:,range(39,45)]\n",
    "A = ds.iloc[:,[0,1]]\n",
    "X = ds.iloc[:,range(2,39)]"
   ]
  },
  {
   "cell_type": "code",
   "execution_count": 6,
   "metadata": {},
   "outputs": [],
   "source": [
    "A_dummy = pd.get_dummies(A)\n",
    "A_dummy = A_dummy.iloc[:,0:2]\n",
    "A_dummy.columns = ['gender', 'public_school']\n",
    "A_dummy['gender'] = 1-A_dummy['gender']\n",
    "A_dummy['elite'] = 1-(1-A_dummy['gender'])*(1-A_dummy['public_school'])"
   ]
  },
  {
   "cell_type": "code",
   "execution_count": 24,
   "metadata": {},
   "outputs": [
    {
     "name": "stdout",
     "output_type": "stream",
     "text": [
      "0-Rama_Educacional_Colegio_Grupo: object, Nan: 2.087096\n",
      "1-Ing_Bruto_Familiar_F: float64, Nan: 2.267710\n",
      "2-Preferencia_Carrera_F: float64, Nan: 1.264299\n",
      "3-Colegio_Promedio_PSU: float64, Nan: 15.291993\n",
      "4-Colegio_Total_Alumnos: float64, Nan: 15.291993\n",
      "5-Prom_Alumn_Dif: float64, Nan: 15.291993\n",
      "6-PSU_Matematica_F: float64, Nan: 3.210917\n",
      "7-PSU_Lenguaje_F: float64, Nan: 3.210917\n",
      "8-PSU_Ciencias: float64, Nan: 49.006623\n",
      "9-PSU_Historia: float64, Nan: 42.544652\n",
      "10-PSU_Hist_Ciencias: float64, Nan: 21.573349\n",
      "11-PSU_Ranking_F: float64, Nan: 2.749348\n",
      "12-Notas_Enseñanza_Media: float64, Nan: 19.947823\n",
      "13-Tipo_Ingreso: object, Nan: 16.616496\n",
      "14-Region_Residencia_Eq: object, Nan: 0.000000\n",
      "15-Participa_EDT: int64, Nan: 0.000000\n",
      "16-Participa_EDV: int64, Nan: 0.000000\n",
      "17-Participa_PAA_1Sem: int64, Nan: 0.000000\n",
      "18-Participa_PAA_2Sem: int64, Nan: 0.000000\n",
      "19-Prom_1er_Sem: float64, Nan: 0.903070\n",
      "20-Primer_Semestre_MEM: float64, Nan: 5.659241\n",
      "21-Primer_Semestre_ECO: float64, Nan: 4.455148\n",
      "22-Primer_Semestre_NEG: float64, Nan: 5.057194\n",
      "23-Primer_Semestre_IDI: float64, Nan: 25.526791\n",
      "24-Primer_Semestre_OTRO: float64, Nan: 29.801325\n",
      "25-UD_Reprobadas_Primer_Semestre: float64, Nan: 0.000000\n",
      "26-Evaluacion_Docente_Primer_Semestre: float64, Nan: 2.006823\n",
      "27-Posterga_Primer_Semestre_Final: int64, Nan: 0.000000\n",
      "28-Prom_2do_Sem: float64, Nan: 3.672486\n",
      "29-Segundo_Semestre_MEM: float64, Nan: 11.238210\n",
      "30-Segundo_Semestre_ECO: float64, Nan: 12.362031\n",
      "31-Segundo_Semestre_NEG: float64, Nan: 12.362031\n",
      "32-Segundo_Semestre_IDI: float64, Nan: 26.831226\n",
      "33-Segundo_Semestre_OTRO: float64, Nan: 6.762994\n",
      "34-UD_Reprobadas_Segundo_Semestre: float64, Nan: 3.592214\n",
      "35-Evaluacion_Docente_Segundo_Semestre: float64, Nan: 7.906883\n",
      "36-Posterga_Segundo_Semestre_F: int64, Nan: 0.000000\n"
     ]
    }
   ],
   "source": [
    "for i, x in enumerate(X.columns):\n",
    "    print(\"{0}-{1}: {2}, Nan: {3:2f}\".format(i, x, ds[x].dtype, 100*ds[x].isna().sum()/4983))"
   ]
  },
  {
   "cell_type": "markdown",
   "metadata": {},
   "source": [
    "# Split Dataset\n",
    "\n",
    "Split dataset into train and test. Train will be used to fit and transform estimators, such as imputation, normalization, and predictive models. Notice that estimators will be used for transform in the data test only.\n",
    "\n",
    "For this case, 70% and 30% will be used for train and test respectively."
   ]
  },
  {
   "cell_type": "code",
   "execution_count": 25,
   "metadata": {},
   "outputs": [],
   "source": [
    "causal_context = { 'causal_2sem': (Y['CausalSem-12'], pd.concat([X.iloc[:,list(range(0,18))+list(range(19,28))],Y['CausalSem-11'], A_dummy.iloc[:,range(2)]], axis=1, ignore_index=False)),\n",
    "                   'causal_3sem': (Y['CausalSem-21'], pd.concat([X,Y.iloc[:,range(0,3)], A_dummy.iloc[:,range(2)]], axis=1, ignore_index=False))\n",
    "}"
   ]
  },
  {
   "cell_type": "code",
   "execution_count": 27,
   "metadata": {},
   "outputs": [
    {
     "name": "stdout",
     "output_type": "stream",
     "text": [
      "Considering causal_2sem context\n",
      "Training prepro for aware\n",
      "Total of variables: 44\n",
      "Training prepro for gender\n",
      "Total of variables: 43\n",
      "Training prepro for public_school\n",
      "Total of variables: 43\n",
      "Transforming test dataset aware\n",
      "Transforming test dataset gender\n",
      "Transforming test dataset public_school\n",
      "\n",
      "Considering causal_3sem context\n",
      "Training prepro for aware\n",
      "Total of variables: 56\n",
      "Training prepro for gender\n",
      "Total of variables: 55\n",
      "Training prepro for public_school\n",
      "Total of variables: 55\n",
      "Transforming test dataset aware\n",
      "Transforming test dataset gender\n",
      "Transforming test dataset public_school\n",
      "\n"
     ]
    }
   ],
   "source": [
    "for key in causal_context:\n",
    "    print('Considering {} context'.format(key))\n",
    "    Y_final, X_final = causal_context[key]\n",
    "    \n",
    "    X_train, X_test, y_train, y_test = train_test_split(X_final, Y_final, test_size = 0.3, stratify= Y_final, random_state = 1)\n",
    "    A_train = X_train.loc[:,['gender', 'public_school']]\n",
    "    A_test = X_test.loc[:,['gender', 'public_school']]\n",
    "\n",
    "    #Get the datasets considering X_test, y_test, and A_test\n",
    "    X_train_notaware_gender = X_train.iloc[:,X_train.columns != 'gender']\n",
    "    X_train_notaware_school = X_train.iloc[:,X_train.columns != 'public_school']\n",
    "    X_train_aware = X_train\n",
    "    \n",
    "    #Creating a dictionary for datasets\n",
    "    train_datasets = {}\n",
    "    train_datasets = {\n",
    "        'aware': X_train_aware,\n",
    "        'gender': X_train_notaware_gender,\n",
    "        'public_school': X_train_notaware_school\n",
    "    }\n",
    "    \n",
    "    #Getting Xs\n",
    "    #i = imputation\n",
    "    #e = encode\n",
    "    #n = normalization\n",
    "\n",
    "    #Dictionary where pickles will be stored\n",
    "    preprocessing_pickles = {}\n",
    "    \n",
    "    #Creating pickles for each case\n",
    "    for td in train_datasets:\n",
    "        print('Training prepro for {}'.format(td))\n",
    "        data = train_datasets[td]\n",
    "        X, pipe_nom, pipe_num, numerical_features , nominal_features = op.preprocessing(data, imputation=True, encode = True, normalization = True)\n",
    "        preprocessing_pickles[td] = (X, pipe_nom, pipe_num)\n",
    "        \n",
    "        numerical_features.extend(nominal_features)\n",
    "        with open('pipes/'+key+'/preprocessing_features_'+td+'.pickle', 'wb') as f:\n",
    "            pickle.dump(numerical_features, f)\n",
    "    \n",
    "        print('Total of variables: {0}'.format(len(numerical_features)))\n",
    "\n",
    "        \n",
    "    #Run following codes for storing pipelines on pickles\n",
    "    with open('pipes/'+key+'/preprocessing.pickle', 'wb') as f:\n",
    "        pickle.dump(preprocessing_pickles, f)\n",
    "    \n",
    "    #Get the datasets considering X_test, y_test, and A_test\n",
    "    X_test_notaware_gender = X_test.iloc[:,X_test.columns != 'gender']\n",
    "    X_test_notaware_school = X_test.iloc[:,X_test.columns != 'public_school']\n",
    "    X_test_aware = X_test\n",
    "    \n",
    "    test_datasets = {}\n",
    "    test_datasets = {\n",
    "    'aware': X_test_aware,\n",
    "    'gender': X_test_notaware_gender,\n",
    "    'public_school': X_test_notaware_school\n",
    "    }\n",
    "    \n",
    "    #Applying Preprocessing Pipelines\n",
    "    data_test_prepro = {}\n",
    "    for d in preprocessing_pickles.keys():\n",
    "        print(\"Transforming test dataset {}\".format(d))\n",
    "        _ , pnom, pnum = preprocessing_pickles[d]\n",
    "        ds = test_datasets[d]\n",
    "    \n",
    "        prep_d = op.applypreprocessing(ds, pnom, pnum)\n",
    "        data_test_prepro[d] = prep_d\n",
    "    \n",
    "    with open('pipes/'+key+'/preprocessing_test.pickle','wb') as f:\n",
    "        pickle.dump(data_test_prepro,f)\n",
    "    \n",
    "    y = {'train': y_train,\n",
    "         'test': y_test}\n",
    "    \n",
    "    with open('pipes/'+key+'/y.pickle', 'wb') as f:\n",
    "        pickle.dump(y,f)\n",
    "    \n",
    "    A = {'train': A_train,\n",
    "         'test': A_test}\n",
    "    with open('pipes/'+key+'/A.pickle','wb') as f:\n",
    "        pickle.dump(A, f)\n",
    "        \n",
    "    print()"
   ]
  },
  {
   "cell_type": "code",
   "execution_count": null,
   "metadata": {},
   "outputs": [],
   "source": []
  }
 ],
 "metadata": {
  "kernelspec": {
   "display_name": "Python 3",
   "language": "python",
   "name": "python3"
  },
  "language_info": {
   "codemirror_mode": {
    "name": "ipython",
    "version": 3
   },
   "file_extension": ".py",
   "mimetype": "text/x-python",
   "name": "python",
   "nbconvert_exporter": "python",
   "pygments_lexer": "ipython3",
   "version": "3.8.5"
  }
 },
 "nbformat": 4,
 "nbformat_minor": 4
}
