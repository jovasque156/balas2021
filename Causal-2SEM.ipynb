{
 "cells": [
  {
   "cell_type": "code",
   "execution_count": 1,
   "metadata": {},
   "outputs": [],
   "source": [
    "#Importing Libraries\n",
    "#Data Handling\n",
    "import pandas as pd\n",
    "import numpy as np\n",
    "import sklearn\n",
    "import math\n",
    "import time\n",
    "\n",
    "#plotting\n",
    "import matplotlib.pyplot as plt\n",
    "from ipywidgets import interact, interactive, fixed, interact_manual\n",
    "from IPython.display import Markdown, display\n",
    "import ipywidgets as widgets\n",
    "import seaborn as sns\n",
    "sns.set()\n",
    "\n",
    "#Pipelines\n",
    "from source import *\n",
    "import source.fairness as fm\n",
    "import source.pipes as op\n",
    "\n",
    "#Sampling\n",
    "from sklearn.model_selection import train_test_split\n",
    "\n",
    "#Storing trains\n",
    "import pickle"
   ]
  },
  {
   "cell_type": "code",
   "execution_count": 2,
   "metadata": {},
   "outputs": [],
   "source": [
    "#Run following codes for loading pipelines on dictionary from pickles\n",
    "with open('pipes/causal_2sem/preprocessing.pickle', 'rb') as f:\n",
    "    preprocessing_pickles = pickle.load(f)\n",
    "    \n",
    "with open('pipes/causal_2sem/y.pickle', 'rb') as f:\n",
    "    y = pickle.load(f)\n",
    "    \n",
    "with open('pipes/causal_2sem/preprocessing_test.pickle', 'rb') as f:\n",
    "    data_test_prepro = pickle.load(f)\n",
    "    \n",
    "with open('pipes/causal_2sem/A.pickle', 'rb') as f:\n",
    "    A = pickle.load(f)\n",
    "    \n",
    "with open('pipes/causal_2sem/preprocessing_features_aware.pickle', 'rb') as f:\n",
    "    aware_features = pickle.load(f)\n",
    "\n",
    "with open('pipes/causal_2sem/preprocessing_features_gender.pickle', 'rb') as f:\n",
    "    gender_features = pickle.load(f)\n",
    "\n",
    "with open('pipes/causal_2sem/preprocessing_features_public_school.pickle', 'rb') as f:\n",
    "    public_school_features = pickle.load(f)\n"
   ]
  },
  {
   "cell_type": "code",
   "execution_count": 3,
   "metadata": {},
   "outputs": [],
   "source": [
    "#Run this for creating dictionary of datasets, nompipelines, and numpipelines\n",
    "#remember: transf means data normalized and scaled.\n",
    "datasets_prepro = {}\n",
    "pipes_nominal = {}\n",
    "pipes_numerical = {}\n",
    "\n",
    "for p in preprocessing_pickles:\n",
    "    d , pnom, pnum = preprocessing_pickles[p]\n",
    "    datasets_prepro[p] = d\n",
    "    pipes_nominal[p] = pnom\n",
    "    pipes_numerical[p] = pnum\n",
    "    \n",
    "for yval in y:\n",
    "    y_train = y['train']\n",
    "    y_test = y['test']\n",
    "    \n",
    "for Aval in A:\n",
    "    A_train = A['train']\n",
    "    A_test = A['test']"
   ]
  },
  {
   "cell_type": "markdown",
   "metadata": {},
   "source": [
    "# Model Train Pipes\n",
    "\n",
    "Using the prepared train datasets, different model will be training in order to identify the get the best model considering different set of parameters."
   ]
  },
  {
   "cell_type": "markdown",
   "metadata": {},
   "source": [
    "Let define the use of the different dataset"
   ]
  },
  {
   "cell_type": "code",
   "execution_count": 4,
   "metadata": {},
   "outputs": [],
   "source": [
    "#Get in a dictionary all preprocessed datasets.\n",
    "datasets = {}\n",
    "for d in datasets_prepro:\n",
    "    ds = datasets_prepro[d]\n",
    "    datasets['transformed_'+d] = ds"
   ]
  },
  {
   "cell_type": "code",
   "execution_count": 5,
   "metadata": {},
   "outputs": [
    {
     "data": {
      "text/plain": [
       "dict_keys(['transformed_aware', 'transformed_gender', 'transformed_public_school'])"
      ]
     },
     "execution_count": 5,
     "metadata": {},
     "output_type": "execute_result"
    }
   ],
   "source": [
    "datasets.keys()"
   ]
  },
  {
   "cell_type": "markdown",
   "metadata": {},
   "source": [
    "### Train Classifiers"
   ]
  },
  {
   "cell_type": "code",
   "execution_count": 6,
   "metadata": {},
   "outputs": [
    {
     "name": "stdout",
     "output_type": "stream",
     "text": [
      "Starting for...transformed_aware with (3294, 44) features\n",
      "End for transformed_aware\n",
      "\n",
      "Starting for...transformed_gender with (3294, 43) features\n",
      "End for transformed_gender\n",
      "\n",
      "Starting for...transformed_public_school with (3294, 43) features\n",
      "End for transformed_public_school\n",
      "\n"
     ]
    }
   ],
   "source": [
    "#Defining Models and parameters for gid\n",
    "#Random Forest\n",
    "parameters = {'RF__class_weight': ['balanced'],'RF__n_estimators':[10, 50, 100], 'RF__criterion': ['gini', 'entropy'], 'RF__max_depth': [None, 5, 10, 15]}\n",
    "rf = RandomForestClassifier(random_state=0)\n",
    "\n",
    "rf_res = {}\n",
    "\n",
    "for ds in datasets:\n",
    "    print(\"Starting for...\"+ds+' with '+str(datasets[ds].shape)+' features')\n",
    "    X = datasets[ds].toarray()\n",
    "    y_train_data = y_train\n",
    "        \n",
    "    fit = op.get_grid(X, y_train_data, parameters, rf, 'RF')\n",
    "    print(\"End for \"+ds)\n",
    "    print()\n",
    "    \n",
    "    rf_res[ds] = fit"
   ]
  },
  {
   "cell_type": "code",
   "execution_count": 7,
   "metadata": {},
   "outputs": [
    {
     "name": "stdout",
     "output_type": "stream",
     "text": [
      "Starting for...transformed_aware with (3294, 44) features\n",
      "End for transformed_aware\n",
      "\n",
      "Starting for...transformed_gender with (3294, 43) features\n",
      "End for transformed_gender\n",
      "\n",
      "Starting for...transformed_public_school with (3294, 43) features\n",
      "End for transformed_public_school\n",
      "\n"
     ]
    }
   ],
   "source": [
    "#Random classifier\n",
    "parameters = {'dummy__strategy': ['uniform']}\n",
    "dummy = DummyClassifier()\n",
    "\n",
    "dummy_res = {}\n",
    "\n",
    "for ds in datasets:\n",
    "    print(\"Starting for...\"+ds+' with '+str(datasets[ds].shape)+' features')\n",
    "    X = datasets[ds].toarray()\n",
    "    y_train_data = y_train\n",
    "        \n",
    "    fit = op.get_grid(X, y_train_data, parameters, dummy, 'dummy')\n",
    "    print(\"End for \"+ds)\n",
    "    print()\n",
    "    \n",
    "    dummy_res[ds] = fit"
   ]
  },
  {
   "cell_type": "code",
   "execution_count": 8,
   "metadata": {},
   "outputs": [],
   "source": [
    "train_models = {'RF':rf_res, 'dummy': dummy_res}"
   ]
  },
  {
   "cell_type": "code",
   "execution_count": 9,
   "metadata": {},
   "outputs": [],
   "source": [
    "#Run this code for storing grid results\n",
    "with open('grid/causal_2sem/train_models.pickle', 'wb') as f:\n",
    "    pickle.dump(train_models, f)"
   ]
  },
  {
   "cell_type": "code",
   "execution_count": 10,
   "metadata": {},
   "outputs": [],
   "source": [
    "#Run this code for loading models\n",
    "with open('grid/causal_2sem/train_models.pickle', 'rb') as f:\n",
    "    train_models = pickle.load(f)"
   ]
  },
  {
   "cell_type": "code",
   "execution_count": 11,
   "metadata": {},
   "outputs": [
    {
     "data": {
      "text/plain": [
       "dict_keys(['RF', 'dummy'])"
      ]
     },
     "execution_count": 11,
     "metadata": {},
     "output_type": "execute_result"
    }
   ],
   "source": [
    "train_models.keys()"
   ]
  },
  {
   "cell_type": "markdown",
   "metadata": {},
   "source": [
    "# Comparing Results with test\n",
    "After training and getting the better results for each dataset, now we analyze the differences for each model by using the data tests."
   ]
  },
  {
   "cell_type": "markdown",
   "metadata": {},
   "source": [
    "Now, the process of prediction is apply using the \"best\" model for each trained model."
   ]
  },
  {
   "cell_type": "code",
   "execution_count": 12,
   "metadata": {},
   "outputs": [
    {
     "data": {
      "text/plain": [
       "dict_keys(['transformed_aware', 'transformed_gender', 'transformed_public_school'])"
      ]
     },
     "execution_count": 12,
     "metadata": {},
     "output_type": "execute_result"
    }
   ],
   "source": [
    "#Get in a dictionary all preprocessed datasets.\n",
    "datasets_test = {}\n",
    "for d in data_test_prepro:\n",
    "    ds = data_test_prepro[d]\n",
    "    datasets_test['transformed_'+d] = ds\n",
    "datasets_test.keys()\n"
   ]
  },
  {
   "cell_type": "markdown",
   "metadata": {},
   "source": [
    "Now, we apply the prediction for each model and datasets in order to evaluate how the models perform between groups."
   ]
  },
  {
   "cell_type": "code",
   "execution_count": 13,
   "metadata": {},
   "outputs": [
    {
     "name": "stdout",
     "output_type": "stream",
     "text": [
      "\n",
      "Running for RF model:\n",
      "  Evaluating for transformed_aware datasets...\n",
      "  Saving results for gender...\n",
      "  Saving results for school...\n",
      "  Evaluating for transformed_gender datasets...\n",
      "  Saving results for gender...\n",
      "  Evaluating for transformed_public_school datasets...\n",
      "  Saving results for school...\n",
      "\n",
      "Running for dummy model:\n",
      "  Evaluating for transformed_aware datasets...\n",
      "  Saving results for gender...\n",
      "  Saving results for school...\n",
      "  Evaluating for transformed_gender datasets...\n",
      "  Saving results for gender...\n",
      "  Evaluating for transformed_public_school datasets...\n",
      "  Saving results for school...\n"
     ]
    }
   ],
   "source": [
    "results_test_complete = pd.DataFrame(columns = ['model', 'scenario', 'f1_score', 'f1_score_priv','f1_score_unpriv','accuracy', 'accuracy_priv','accuracy_unpriv', 'auc', 'auc_priv', 'auc_unpriv'])\n",
    "results_test = pd.DataFrame(columns = ['model', 'dataset', 'unaware', 'f1_score', 'accuracy_score', 'auc'])\n",
    "results_per_group_gender = pd.DataFrame(columns = ['model', 'dataset', 'unaware', 'f1_score', 'f1_score_priv','f1_score_unpriv', 'accuracy','accuracy_priv','accuracy_unpriv', 'auc', 'auc_priv', 'auc_unpriv'])\n",
    "results_per_group_school = pd.DataFrame(columns = ['model', 'dataset', 'unaware', 'f1_score',  'f1_score_priv','f1_score_unpriv', 'accuracy','accuracy_priv','accuracy_unpriv', 'auc','auc_priv', 'auc_unpriv'])\n",
    "\n",
    "for m in train_models:\n",
    "    #get grid of a specific model\n",
    "    grid_model = train_models[m]\n",
    "    print()\n",
    "    print('Running for {0} model:'.format(m))\n",
    "    \n",
    "    #predict for each dataset\n",
    "    for ds in datasets_test:\n",
    "        if not('original' in ds):\n",
    "            print(\"  Evaluating for {0} datasets...\".format(ds))\n",
    "            unaware = 0\n",
    "            \n",
    "            ds_test = datasets_test[ds].toarray()\n",
    "            estimator_grid = grid_model[ds].best_estimator_[m]\n",
    "            y_pred = estimator_grid.predict(ds_test)\n",
    "            y_pred_prob = estimator_grid.predict_proba(ds_test)[:,1]\n",
    "            \n",
    "            #Overall performances\n",
    "            y_test_data = y_test\n",
    "                \n",
    "            f1 = f1_score(y_test_data, y_pred)\n",
    "            auc = roc_auc_score(y_test_data, y_pred_prob)\n",
    "            acc = accuracy_score(y_test_data, y_pred)\n",
    "\n",
    "            #Identifying aware, feature selection and decomposition\n",
    "            if ('gender' in ds) or ('public_school' in ds): unaware = 1\n",
    "        \n",
    "            #Performances per group\n",
    "            if ('gender' in ds) or ('aware' in ds):\n",
    "                print('  Saving results for gender...')\n",
    "                \n",
    "                A_fairness = A_test['gender']\n",
    "                \n",
    "                f1_gend_f = f1_score(y_test_data[A_fairness==1], y_pred[np.where(A_fairness==1)])\n",
    "                f1_gend_m = f1_score(y_test_data[A_fairness==0], y_pred[np.where(A_fairness==0)])\n",
    "\n",
    "                auc_gend_f = roc_auc_score(y_test_data[A_fairness==1], y_pred_prob[np.where(A_fairness==1)])\n",
    "                auc_gend_m = roc_auc_score(y_test_data[A_fairness==0], y_pred_prob[np.where(A_fairness==0)])\n",
    "\n",
    "                acc_f = accuracy_score(y_test_data[A_fairness==1], y_pred[np.where(A_fairness==1)])\n",
    "                acc_m = accuracy_score(y_test_data[A_fairness==0], y_pred[np.where(A_fairness==0)])\n",
    "\n",
    "                r_gender = {'model': m, 'dataset':ds, 'unaware': unaware,'f1_score': f1, 'f1_score_priv':f1_gend_m, 'f1_score_unpriv':f1_gend_f, 'accuracy':acc ,'accuracy_priv': acc_m,'accuracy_unpriv':acc_f , 'auc': auc, 'auc_priv': auc_gend_m, 'auc_unpriv': auc_gend_f}\n",
    "                results_per_group_gender = results_per_group_gender.append(r_gender, ignore_index = True)\n",
    "\n",
    "\n",
    "            if ('school' in ds) or ('aware' in ds):\n",
    "                print('  Saving results for school...')\n",
    "                \n",
    "                A_fairness = A_test['public_school']\n",
    "                \n",
    "                f1_gend_p = f1_score(y_test_data[A_fairness==1], y_pred[np.where(A_fairness==1)])\n",
    "                f1_gend_np = f1_score(y_test_data[A_fairness==0], y_pred[np.where(A_fairness==0)])\n",
    "\n",
    "                auc_gend_p = roc_auc_score(y_test_data[A_fairness==1], y_pred_prob[np.where(A_fairness==1)])\n",
    "                auc_gend_np = roc_auc_score(y_test_data[A_fairness==0], y_pred_prob[np.where(A_fairness==0)])\n",
    "\n",
    "                acc_p = accuracy_score(y_test_data[A_fairness==1], y_pred[np.where(A_fairness==1)])\n",
    "                acc_np = accuracy_score(y_test_data[A_fairness==0], y_pred[np.where(A_fairness==0)])\n",
    "                                                                                                                                                                                                                                                                                          \n",
    "                r_school = {'model': m, 'dataset':ds, 'unaware': unaware, 'f1_score': f1, 'f1_score_priv': f1_gend_np, 'f1_score_unpriv':f1_gend_p, 'accuracy':acc ,'accuracy_priv':acc_np ,'accuracy_unpriv': acc_p, 'auc': auc, 'auc_priv': auc_gend_np, 'auc_unpriv': auc_gend_p}\n",
    "                results_per_group_school = results_per_group_school.append(r_school, ignore_index = True)\n",
    "\n",
    "            if 'transformed' in ds and ('gender' in ds or 'school' in ds):\n",
    "                scenario=''\n",
    "                if 'gender' in ds:\n",
    "                    scenario = 'gender'\n",
    "                    f1_priv = f1_gend_m\n",
    "                    f1_unpriv = f1_gend_f\n",
    "                    acc_priv = acc_m\n",
    "                    acc_unpriv = acc_f\n",
    "                    auc_priv = auc_gend_m\n",
    "                    auc_unpriv = auc_gend_f\n",
    "                elif 'school' in ds:\n",
    "                    scenario = 'public_school'\n",
    "                    f1_priv = f1_gend_np\n",
    "                    f1_unpriv = f1_gend_p\n",
    "                    acc_priv = acc_np\n",
    "                    acc_unpriv = acc_p\n",
    "                    auc_priv = auc_gend_np\n",
    "                    auc_unpriv = auc_gend_p\n",
    "                                                                                                                                                                                                                         \n",
    "                r_complete = {'model': m, 'scenario': scenario, 'f1_score': f1, 'f1_score_priv': f1_priv,'f1_score_unpriv': f1_unpriv,'accuracy': acc,'accuracy_priv': acc_priv,'accuracy_unpriv': acc_unpriv, 'auc': auc, 'auc_priv': auc_priv, 'auc_unpriv':auc_unpriv}\n",
    "                results_test_complete = results_test_complete.append(r_complete, ignore_index = True)\n",
    "\n",
    "            r = {'model': m, 'dataset': ds, 'unaware': unaware, 'f1_score': f1, 'accuracy_score': acc, 'auc': auc}\n",
    "            results_test = results_test.append(r, ignore_index = True)"
   ]
  },
  {
   "cell_type": "code",
   "execution_count": 15,
   "metadata": {},
   "outputs": [],
   "source": [
    "#These pickles are for storing the results.\n",
    "with open('results/causal_2sem/results_test.pickle', 'wb') as f:\n",
    "    pickle.dump(results_test_complete, f)\n",
    "    \n",
    "with open('results/causal_2sem/results_per_group_gender.pickle', 'wb') as f:\n",
    "    pickle.dump(results_per_group_gender, f)\n",
    "    \n",
    "with open('results/causal_2sem/results_per_group_school.pickle', 'wb') as f:\n",
    "    pickle.dump(results_per_group_school, f)"
   ]
  },
  {
   "cell_type": "code",
   "execution_count": 16,
   "metadata": {},
   "outputs": [],
   "source": [
    "#Run the following codes for open pickles\n",
    "with open('results/causal_2sem/results_test.pickle', 'rb') as f:\n",
    "    results_test = pickle.load(f)\n",
    "\n",
    "with open('results/causal_2sem/results_per_group_gender.pickle', 'rb') as f:\n",
    "    results_per_group_gender = pickle.load(f)\n",
    "    \n",
    "with open('results/causal_2sem/results_per_group_school.pickle', 'rb') as f:\n",
    "    results_per_group_school = pickle.load(f)"
   ]
  },
  {
   "cell_type": "code",
   "execution_count": 17,
   "metadata": {},
   "outputs": [
    {
     "data": {
      "text/html": [
       "<div>\n",
       "<style scoped>\n",
       "    .dataframe tbody tr th:only-of-type {\n",
       "        vertical-align: middle;\n",
       "    }\n",
       "\n",
       "    .dataframe tbody tr th {\n",
       "        vertical-align: top;\n",
       "    }\n",
       "\n",
       "    .dataframe thead th {\n",
       "        text-align: right;\n",
       "    }\n",
       "</style>\n",
       "<table border=\"1\" class=\"dataframe\">\n",
       "  <thead>\n",
       "    <tr style=\"text-align: right;\">\n",
       "      <th></th>\n",
       "      <th>model</th>\n",
       "      <th>dataset</th>\n",
       "      <th>unaware</th>\n",
       "      <th>f1_score</th>\n",
       "      <th>f1_score_priv</th>\n",
       "      <th>f1_score_unpriv</th>\n",
       "      <th>accuracy</th>\n",
       "      <th>accuracy_priv</th>\n",
       "      <th>accuracy_unpriv</th>\n",
       "      <th>auc</th>\n",
       "      <th>auc_priv</th>\n",
       "      <th>auc_unpriv</th>\n",
       "    </tr>\n",
       "  </thead>\n",
       "  <tbody>\n",
       "    <tr>\n",
       "      <th>0</th>\n",
       "      <td>RF</td>\n",
       "      <td>transformed_aware</td>\n",
       "      <td>0</td>\n",
       "      <td>0.436508</td>\n",
       "      <td>0.439437</td>\n",
       "      <td>0.429530</td>\n",
       "      <td>0.798867</td>\n",
       "      <td>0.819583</td>\n",
       "      <td>0.724919</td>\n",
       "      <td>0.884841</td>\n",
       "      <td>0.894885</td>\n",
       "      <td>0.845074</td>\n",
       "    </tr>\n",
       "    <tr>\n",
       "      <th>2</th>\n",
       "      <td>dummy</td>\n",
       "      <td>transformed_aware</td>\n",
       "      <td>0</td>\n",
       "      <td>0.180139</td>\n",
       "      <td>0.162896</td>\n",
       "      <td>0.236453</td>\n",
       "      <td>0.497167</td>\n",
       "      <td>0.496827</td>\n",
       "      <td>0.498382</td>\n",
       "      <td>0.500000</td>\n",
       "      <td>0.500000</td>\n",
       "      <td>0.500000</td>\n",
       "    </tr>\n",
       "  </tbody>\n",
       "</table>\n",
       "</div>"
      ],
      "text/plain": [
       "   model            dataset unaware  f1_score  f1_score_priv  f1_score_unpriv  \\\n",
       "0     RF  transformed_aware       0  0.436508       0.439437         0.429530   \n",
       "2  dummy  transformed_aware       0  0.180139       0.162896         0.236453   \n",
       "\n",
       "   accuracy  accuracy_priv  accuracy_unpriv       auc  auc_priv  auc_unpriv  \n",
       "0  0.798867       0.819583         0.724919  0.884841  0.894885    0.845074  \n",
       "2  0.497167       0.496827         0.498382  0.500000  0.500000    0.500000  "
      ]
     },
     "execution_count": 17,
     "metadata": {},
     "output_type": "execute_result"
    }
   ],
   "source": [
    "results_per_group_school.loc[results_per_group_school['unaware']==0,:].sort_values(by='f1_score', ascending=False)"
   ]
  },
  {
   "cell_type": "code",
   "execution_count": 18,
   "metadata": {},
   "outputs": [
    {
     "data": {
      "text/html": [
       "<div>\n",
       "<style scoped>\n",
       "    .dataframe tbody tr th:only-of-type {\n",
       "        vertical-align: middle;\n",
       "    }\n",
       "\n",
       "    .dataframe tbody tr th {\n",
       "        vertical-align: top;\n",
       "    }\n",
       "\n",
       "    .dataframe thead th {\n",
       "        text-align: right;\n",
       "    }\n",
       "</style>\n",
       "<table border=\"1\" class=\"dataframe\">\n",
       "  <thead>\n",
       "    <tr style=\"text-align: right;\">\n",
       "      <th></th>\n",
       "      <th>model</th>\n",
       "      <th>dataset</th>\n",
       "      <th>unaware</th>\n",
       "      <th>f1_score</th>\n",
       "      <th>f1_score_priv</th>\n",
       "      <th>f1_score_unpriv</th>\n",
       "      <th>accuracy</th>\n",
       "      <th>accuracy_priv</th>\n",
       "      <th>accuracy_unpriv</th>\n",
       "      <th>auc</th>\n",
       "      <th>auc_priv</th>\n",
       "      <th>auc_unpriv</th>\n",
       "    </tr>\n",
       "  </thead>\n",
       "  <tbody>\n",
       "    <tr>\n",
       "      <th>0</th>\n",
       "      <td>RF</td>\n",
       "      <td>transformed_aware</td>\n",
       "      <td>0</td>\n",
       "      <td>0.436508</td>\n",
       "      <td>0.439437</td>\n",
       "      <td>0.429530</td>\n",
       "      <td>0.798867</td>\n",
       "      <td>0.819583</td>\n",
       "      <td>0.724919</td>\n",
       "      <td>0.884841</td>\n",
       "      <td>0.894885</td>\n",
       "      <td>0.845074</td>\n",
       "    </tr>\n",
       "    <tr>\n",
       "      <th>2</th>\n",
       "      <td>dummy</td>\n",
       "      <td>transformed_aware</td>\n",
       "      <td>0</td>\n",
       "      <td>0.180139</td>\n",
       "      <td>0.162896</td>\n",
       "      <td>0.236453</td>\n",
       "      <td>0.497167</td>\n",
       "      <td>0.496827</td>\n",
       "      <td>0.498382</td>\n",
       "      <td>0.500000</td>\n",
       "      <td>0.500000</td>\n",
       "      <td>0.500000</td>\n",
       "    </tr>\n",
       "  </tbody>\n",
       "</table>\n",
       "</div>"
      ],
      "text/plain": [
       "   model            dataset unaware  f1_score  f1_score_priv  f1_score_unpriv  \\\n",
       "0     RF  transformed_aware       0  0.436508       0.439437         0.429530   \n",
       "2  dummy  transformed_aware       0  0.180139       0.162896         0.236453   \n",
       "\n",
       "   accuracy  accuracy_priv  accuracy_unpriv       auc  auc_priv  auc_unpriv  \n",
       "0  0.798867       0.819583         0.724919  0.884841  0.894885    0.845074  \n",
       "2  0.497167       0.496827         0.498382  0.500000  0.500000    0.500000  "
      ]
     },
     "execution_count": 18,
     "metadata": {},
     "output_type": "execute_result"
    }
   ],
   "source": [
    "results_per_group_school.loc[results_per_group_school['unaware']==0,:].sort_values(by='f1_score', ascending=False)"
   ]
  },
  {
   "cell_type": "code",
   "execution_count": 19,
   "metadata": {},
   "outputs": [
    {
     "data": {
      "text/html": [
       "<div>\n",
       "<style scoped>\n",
       "    .dataframe tbody tr th:only-of-type {\n",
       "        vertical-align: middle;\n",
       "    }\n",
       "\n",
       "    .dataframe tbody tr th {\n",
       "        vertical-align: top;\n",
       "    }\n",
       "\n",
       "    .dataframe thead th {\n",
       "        text-align: right;\n",
       "    }\n",
       "</style>\n",
       "<table border=\"1\" class=\"dataframe\">\n",
       "  <thead>\n",
       "    <tr style=\"text-align: right;\">\n",
       "      <th></th>\n",
       "      <th>model</th>\n",
       "      <th>dataset</th>\n",
       "      <th>unaware</th>\n",
       "      <th>f1_score</th>\n",
       "      <th>f1_score_priv</th>\n",
       "      <th>f1_score_unpriv</th>\n",
       "      <th>accuracy</th>\n",
       "      <th>accuracy_priv</th>\n",
       "      <th>accuracy_unpriv</th>\n",
       "      <th>auc</th>\n",
       "      <th>auc_priv</th>\n",
       "      <th>auc_unpriv</th>\n",
       "    </tr>\n",
       "  </thead>\n",
       "  <tbody>\n",
       "    <tr>\n",
       "      <th>0</th>\n",
       "      <td>RF</td>\n",
       "      <td>transformed_aware</td>\n",
       "      <td>0</td>\n",
       "      <td>0.436508</td>\n",
       "      <td>0.401361</td>\n",
       "      <td>0.485714</td>\n",
       "      <td>0.798867</td>\n",
       "      <td>0.791716</td>\n",
       "      <td>0.809524</td>\n",
       "      <td>0.884841</td>\n",
       "      <td>0.863963</td>\n",
       "      <td>0.912852</td>\n",
       "    </tr>\n",
       "    <tr>\n",
       "      <th>2</th>\n",
       "      <td>dummy</td>\n",
       "      <td>transformed_aware</td>\n",
       "      <td>0</td>\n",
       "      <td>0.180139</td>\n",
       "      <td>0.190476</td>\n",
       "      <td>0.165746</td>\n",
       "      <td>0.497167</td>\n",
       "      <td>0.517160</td>\n",
       "      <td>0.467372</td>\n",
       "      <td>0.500000</td>\n",
       "      <td>0.500000</td>\n",
       "      <td>0.500000</td>\n",
       "    </tr>\n",
       "  </tbody>\n",
       "</table>\n",
       "</div>"
      ],
      "text/plain": [
       "   model            dataset unaware  f1_score  f1_score_priv  f1_score_unpriv  \\\n",
       "0     RF  transformed_aware       0  0.436508       0.401361         0.485714   \n",
       "2  dummy  transformed_aware       0  0.180139       0.190476         0.165746   \n",
       "\n",
       "   accuracy  accuracy_priv  accuracy_unpriv       auc  auc_priv  auc_unpriv  \n",
       "0  0.798867       0.791716         0.809524  0.884841  0.863963    0.912852  \n",
       "2  0.497167       0.517160         0.467372  0.500000  0.500000    0.500000  "
      ]
     },
     "execution_count": 19,
     "metadata": {},
     "output_type": "execute_result"
    }
   ],
   "source": [
    "results_per_group_gender.loc[results_per_group_school['unaware']==0,:].sort_values(by='f1_score', ascending=False)"
   ]
  },
  {
   "cell_type": "code",
   "execution_count": 21,
   "metadata": {},
   "outputs": [
    {
     "data": {
      "text/html": [
       "<div>\n",
       "<style scoped>\n",
       "    .dataframe tbody tr th:only-of-type {\n",
       "        vertical-align: middle;\n",
       "    }\n",
       "\n",
       "    .dataframe tbody tr th {\n",
       "        vertical-align: top;\n",
       "    }\n",
       "\n",
       "    .dataframe thead th {\n",
       "        text-align: right;\n",
       "    }\n",
       "</style>\n",
       "<table border=\"1\" class=\"dataframe\">\n",
       "  <thead>\n",
       "    <tr style=\"text-align: right;\">\n",
       "      <th></th>\n",
       "      <th>model</th>\n",
       "      <th>dataset</th>\n",
       "      <th>unaware</th>\n",
       "      <th>f1_score</th>\n",
       "      <th>f1_score_priv</th>\n",
       "      <th>f1_score_unpriv</th>\n",
       "      <th>accuracy</th>\n",
       "      <th>accuracy_priv</th>\n",
       "      <th>accuracy_unpriv</th>\n",
       "      <th>auc</th>\n",
       "      <th>auc_priv</th>\n",
       "      <th>auc_unpriv</th>\n",
       "    </tr>\n",
       "  </thead>\n",
       "  <tbody>\n",
       "    <tr>\n",
       "      <th>1</th>\n",
       "      <td>RF</td>\n",
       "      <td>transformed_gender</td>\n",
       "      <td>1</td>\n",
       "      <td>0.452471</td>\n",
       "      <td>0.405063</td>\n",
       "      <td>0.523810</td>\n",
       "      <td>0.796034</td>\n",
       "      <td>0.777515</td>\n",
       "      <td>0.823633</td>\n",
       "      <td>0.8953</td>\n",
       "      <td>0.870807</td>\n",
       "      <td>0.926498</td>\n",
       "    </tr>\n",
       "    <tr>\n",
       "      <th>3</th>\n",
       "      <td>dummy</td>\n",
       "      <td>transformed_gender</td>\n",
       "      <td>1</td>\n",
       "      <td>0.180708</td>\n",
       "      <td>0.163090</td>\n",
       "      <td>0.203966</td>\n",
       "      <td>0.524788</td>\n",
       "      <td>0.538462</td>\n",
       "      <td>0.504409</td>\n",
       "      <td>0.5000</td>\n",
       "      <td>0.500000</td>\n",
       "      <td>0.500000</td>\n",
       "    </tr>\n",
       "  </tbody>\n",
       "</table>\n",
       "</div>"
      ],
      "text/plain": [
       "   model             dataset unaware  f1_score  f1_score_priv  \\\n",
       "1     RF  transformed_gender       1  0.452471       0.405063   \n",
       "3  dummy  transformed_gender       1  0.180708       0.163090   \n",
       "\n",
       "   f1_score_unpriv  accuracy  accuracy_priv  accuracy_unpriv     auc  \\\n",
       "1         0.523810  0.796034       0.777515         0.823633  0.8953   \n",
       "3         0.203966  0.524788       0.538462         0.504409  0.5000   \n",
       "\n",
       "   auc_priv  auc_unpriv  \n",
       "1  0.870807    0.926498  \n",
       "3  0.500000    0.500000  "
      ]
     },
     "execution_count": 21,
     "metadata": {},
     "output_type": "execute_result"
    }
   ],
   "source": [
    "results_per_group_gender.loc[results_per_group_school['unaware']==1,:].sort_values(by='f1_score', ascending=False)"
   ]
  },
  {
   "cell_type": "markdown",
   "metadata": {},
   "source": [
    "# Fairness Metrics\n",
    "Let measure the fairness metrics for each model. "
   ]
  },
  {
   "cell_type": "code",
   "execution_count": 22,
   "metadata": {},
   "outputs": [
    {
     "name": "stdout",
     "output_type": "stream",
     "text": [
      "\n",
      "Running for RF model:\n",
      "  Evaluating for transformed_aware datasets...\n",
      "  Evaluating for transformed_gender datasets...\n",
      "  Evaluating for transformed_public_school datasets...\n",
      "\n",
      "Running for dummy model:\n",
      "  Evaluating for transformed_aware datasets...\n",
      "  Evaluating for transformed_gender datasets...\n",
      "  Evaluating for transformed_public_school datasets...\n"
     ]
    }
   ],
   "source": [
    "results_fairness_gender = pd.DataFrame(columns = ['model', 'dataset', 'fairness_mitigation', 'f1', 'accuracy', 'auc', 'demographic_parity_dif', 'disparate_impact_rate', 'equal_opp_dif', 'equalized_odd_dif', 'sufficiency_dif'])\n",
    "results_fairness_school = pd.DataFrame(columns = ['model', 'dataset', 'fairness_mitigation', 'f1', 'accuracy', 'auc','demographic_parity_dif', 'disparate_impact_rate', 'equal_opp_dif', 'equalized_odd_dif', 'sufficiency_dif'])\n",
    "\n",
    "#Let call fairness_mitigation to: awarnessed, not awarnessed (not explicit only), feature selection, decomposition, decomposition and feature selection\n",
    "#Note: only awarnessed assumes explicit sensitive attriutbes\n",
    "\n",
    "#For truth ground we use y_test\n",
    "\n",
    "#Get train datasets and sensitive attributes\n",
    "for m in train_models:\n",
    "    #get grid of a specific model\n",
    "    grid_model = train_models[m]\n",
    "    print()\n",
    "    print('Running for {0} model:'.format(m))\n",
    "    \n",
    "    for ds in datasets_test:\n",
    "        print(\"  Evaluating for {0} datasets...\".format(ds))\n",
    "        ds_test = datasets_test[ds].toarray()\n",
    "        estimator_grid = grid_model[ds].best_estimator_[m]\n",
    "\n",
    "        #Identify sensitive attribute\n",
    "        gender = 0\n",
    "        school = 0\n",
    "        if ('gender' in ds) or ('aware' in ds):\n",
    "            gender = 1\n",
    "        if ('school' in ds) or ('aware' in ds):\n",
    "            school = 1\n",
    "                \n",
    "        #Identify fairness mitigation\n",
    "        fairness_mitigation = ''\n",
    "        if 'aware' in ds:\n",
    "            fairness_mitigation = 'aware'\n",
    "        else:\n",
    "            fairness_mitigation = 'unaware'\n",
    "\n",
    "        #Get Prediction\n",
    "        y_test_data = y_test\n",
    "                \n",
    "        prediction = estimator_grid.predict(ds_test)\n",
    "\n",
    "        #Getting Overall performances #Overall performances\n",
    "        f1 = f1_score(y_test_data, prediction)\n",
    "        auc = roc_auc_score(y_test_data, estimator_grid.predict_proba(ds_test)[:,1])\n",
    "        acc = accuracy_score(y_test_data, prediction)\n",
    "\n",
    "        #Evaluate Fairness metrics.\n",
    "        #Let asume we are evaluating based on demographic_parity_dif\n",
    "        if school == 1:\n",
    "            sens = A_test['public_school']\n",
    "            fairness_perfo_dpd = fm.demographic_parity_dif(prediction, sens, 0)\n",
    "            fairness_perfo_di = fm.disparate_impact_rate(prediction, sens, 0)-1\n",
    "            fairness_perfo_eopd = fm.equal_opp_dif(y_test_data, prediction, sens, 0)\n",
    "            fairness_perfo_eod = fm.equalized_odd_dif(y_test_data, prediction, sens, 0)\n",
    "            fairness_perfo_suff_dif = fm.sufficiency_dif(y_test_data, prediction, sens, 0)\n",
    "\n",
    "            new_res = {'model': m, 'dataset':ds, 'fairness_mitigation':fairness_mitigation, 'f1':f1, 'accuracy':acc, 'auc':auc, 'demographic_parity_dif':fairness_perfo_dpd, 'disparate_impact_rate':fairness_perfo_di, 'equal_opp_dif':fairness_perfo_eopd, 'equalized_odd_dif':fairness_perfo_eod, 'sufficiency_dif':fairness_perfo_suff_dif}\n",
    "            results_fairness_school=results_fairness_school.append(new_res, ignore_index=True)\n",
    "            \n",
    "        if gender == 1:\n",
    "            sens = A_test['gender']\n",
    "            fairness_perfo_dpd = fm.demographic_parity_dif(prediction, sens, 0)\n",
    "            fairness_perfo_di = fm.disparate_impact_rate(prediction, sens, 0)-1\n",
    "            fairness_perfo_eopd = fm.equal_opp_dif(y_test_data, prediction, sens, 0)\n",
    "            fairness_perfo_eod = fm.equalized_odd_dif(y_test_data, prediction, sens,0)\n",
    "            fairness_perfo_suff_dif = fm.sufficiency_dif(y_test_data, prediction, sens, 0)\n",
    "\n",
    "            new_res = {'model': m, 'dataset':ds, 'fairness_mitigation':fairness_mitigation, 'f1':f1, 'accuracy':acc, 'auc':auc, 'demographic_parity_dif':fairness_perfo_dpd, 'disparate_impact_rate':fairness_perfo_di, 'equal_opp_dif':fairness_perfo_eopd, 'equalized_odd_dif':fairness_perfo_eod, 'sufficiency_dif':fairness_perfo_suff_dif}\n",
    "            results_fairness_gender=results_fairness_gender.append(new_res, ignore_index=True)"
   ]
  },
  {
   "cell_type": "code",
   "execution_count": 23,
   "metadata": {},
   "outputs": [],
   "source": [
    "fairness_results = {'school': results_fairness_school,\n",
    "                   'gender': results_fairness_gender}"
   ]
  },
  {
   "cell_type": "code",
   "execution_count": 24,
   "metadata": {},
   "outputs": [],
   "source": [
    "#This pickles are for storing the results.\n",
    "with open('results/causal_2sem/fairness_results.pickle', 'wb') as f:\n",
    "    pickle.dump(fairness_results, f)"
   ]
  },
  {
   "cell_type": "code",
   "execution_count": 25,
   "metadata": {},
   "outputs": [],
   "source": [
    "#Run the following for open pickles\n",
    "with open('results/causal_2sem/fairness_results.pickle', 'rb') as f:\n",
    "    fairness_results = pickle.load(f)\n",
    "    \n",
    "results_fairness_school = fairness_results['school']\n",
    "results_fairness_gender = fairness_results['gender']\n",
    "fairness_results = {'school': results_fairness_school,\n",
    "                   'gender': results_fairness_gender}"
   ]
  },
  {
   "cell_type": "code",
   "execution_count": 26,
   "metadata": {},
   "outputs": [
    {
     "data": {
      "text/html": [
       "<div>\n",
       "<style scoped>\n",
       "    .dataframe tbody tr th:only-of-type {\n",
       "        vertical-align: middle;\n",
       "    }\n",
       "\n",
       "    .dataframe tbody tr th {\n",
       "        vertical-align: top;\n",
       "    }\n",
       "\n",
       "    .dataframe thead th {\n",
       "        text-align: right;\n",
       "    }\n",
       "</style>\n",
       "<table border=\"1\" class=\"dataframe\">\n",
       "  <thead>\n",
       "    <tr style=\"text-align: right;\">\n",
       "      <th></th>\n",
       "      <th>model</th>\n",
       "      <th>dataset</th>\n",
       "      <th>fairness_mitigation</th>\n",
       "      <th>f1</th>\n",
       "      <th>accuracy</th>\n",
       "      <th>auc</th>\n",
       "      <th>demographic_parity_dif</th>\n",
       "      <th>disparate_impact_rate</th>\n",
       "      <th>equal_opp_dif</th>\n",
       "      <th>equalized_odd_dif</th>\n",
       "      <th>sufficiency_dif</th>\n",
       "    </tr>\n",
       "  </thead>\n",
       "  <tbody>\n",
       "    <tr>\n",
       "      <th>1</th>\n",
       "      <td>RF</td>\n",
       "      <td>transformed_gender</td>\n",
       "      <td>unaware</td>\n",
       "      <td>0.452471</td>\n",
       "      <td>0.796034</td>\n",
       "      <td>0.895300</td>\n",
       "      <td>-0.011793</td>\n",
       "      <td>-0.042403</td>\n",
       "      <td>0.142080</td>\n",
       "      <td>0.127260</td>\n",
       "      <td>0.091898</td>\n",
       "    </tr>\n",
       "    <tr>\n",
       "      <th>0</th>\n",
       "      <td>RF</td>\n",
       "      <td>transformed_aware</td>\n",
       "      <td>aware</td>\n",
       "      <td>0.436508</td>\n",
       "      <td>0.798867</td>\n",
       "      <td>0.884841</td>\n",
       "      <td>0.014243</td>\n",
       "      <td>0.056504</td>\n",
       "      <td>0.136012</td>\n",
       "      <td>0.101072</td>\n",
       "      <td>0.060753</td>\n",
       "    </tr>\n",
       "    <tr>\n",
       "      <th>2</th>\n",
       "      <td>dummy</td>\n",
       "      <td>transformed_aware</td>\n",
       "      <td>aware</td>\n",
       "      <td>0.180964</td>\n",
       "      <td>0.506374</td>\n",
       "      <td>0.500000</td>\n",
       "      <td>-0.022126</td>\n",
       "      <td>-0.043179</td>\n",
       "      <td>-0.071772</td>\n",
       "      <td>0.003929</td>\n",
       "      <td>-0.000631</td>\n",
       "    </tr>\n",
       "    <tr>\n",
       "      <th>3</th>\n",
       "      <td>dummy</td>\n",
       "      <td>transformed_gender</td>\n",
       "      <td>unaware</td>\n",
       "      <td>0.151990</td>\n",
       "      <td>0.502125</td>\n",
       "      <td>0.500000</td>\n",
       "      <td>0.003909</td>\n",
       "      <td>0.008037</td>\n",
       "      <td>-0.016112</td>\n",
       "      <td>-0.005242</td>\n",
       "      <td>0.003501</td>\n",
       "    </tr>\n",
       "  </tbody>\n",
       "</table>\n",
       "</div>"
      ],
      "text/plain": [
       "   model             dataset fairness_mitigation        f1  accuracy  \\\n",
       "1     RF  transformed_gender             unaware  0.452471  0.796034   \n",
       "0     RF   transformed_aware               aware  0.436508  0.798867   \n",
       "2  dummy   transformed_aware               aware  0.180964  0.506374   \n",
       "3  dummy  transformed_gender             unaware  0.151990  0.502125   \n",
       "\n",
       "        auc  demographic_parity_dif  disparate_impact_rate  equal_opp_dif  \\\n",
       "1  0.895300               -0.011793              -0.042403       0.142080   \n",
       "0  0.884841                0.014243               0.056504       0.136012   \n",
       "2  0.500000               -0.022126              -0.043179      -0.071772   \n",
       "3  0.500000                0.003909               0.008037      -0.016112   \n",
       "\n",
       "   equalized_odd_dif  sufficiency_dif  \n",
       "1           0.127260         0.091898  \n",
       "0           0.101072         0.060753  \n",
       "2           0.003929        -0.000631  \n",
       "3          -0.005242         0.003501  "
      ]
     },
     "execution_count": 26,
     "metadata": {},
     "output_type": "execute_result"
    }
   ],
   "source": [
    "results_fairness_gender.sort_values(by='f1', ascending=False)"
   ]
  },
  {
   "cell_type": "code",
   "execution_count": 27,
   "metadata": {},
   "outputs": [
    {
     "data": {
      "text/html": [
       "<div>\n",
       "<style scoped>\n",
       "    .dataframe tbody tr th:only-of-type {\n",
       "        vertical-align: middle;\n",
       "    }\n",
       "\n",
       "    .dataframe tbody tr th {\n",
       "        vertical-align: top;\n",
       "    }\n",
       "\n",
       "    .dataframe thead th {\n",
       "        text-align: right;\n",
       "    }\n",
       "</style>\n",
       "<table border=\"1\" class=\"dataframe\">\n",
       "  <thead>\n",
       "    <tr style=\"text-align: right;\">\n",
       "      <th></th>\n",
       "      <th>model</th>\n",
       "      <th>dataset</th>\n",
       "      <th>fairness_mitigation</th>\n",
       "      <th>f1</th>\n",
       "      <th>accuracy</th>\n",
       "      <th>auc</th>\n",
       "      <th>demographic_parity_dif</th>\n",
       "      <th>disparate_impact_rate</th>\n",
       "      <th>equal_opp_dif</th>\n",
       "      <th>equalized_odd_dif</th>\n",
       "      <th>sufficiency_dif</th>\n",
       "    </tr>\n",
       "  </thead>\n",
       "  <tbody>\n",
       "    <tr>\n",
       "      <th>1</th>\n",
       "      <td>RF</td>\n",
       "      <td>transformed_public_school</td>\n",
       "      <td>unaware</td>\n",
       "      <td>0.454198</td>\n",
       "      <td>0.797450</td>\n",
       "      <td>0.893980</td>\n",
       "      <td>0.120002</td>\n",
       "      <td>0.488422</td>\n",
       "      <td>0.035</td>\n",
       "      <td>0.136755</td>\n",
       "      <td>-0.000229</td>\n",
       "    </tr>\n",
       "    <tr>\n",
       "      <th>0</th>\n",
       "      <td>RF</td>\n",
       "      <td>transformed_aware</td>\n",
       "      <td>aware</td>\n",
       "      <td>0.436508</td>\n",
       "      <td>0.798867</td>\n",
       "      <td>0.884841</td>\n",
       "      <td>0.121563</td>\n",
       "      <td>0.525820</td>\n",
       "      <td>0.020</td>\n",
       "      <td>0.118039</td>\n",
       "      <td>-0.012304</td>\n",
       "    </tr>\n",
       "    <tr>\n",
       "      <th>2</th>\n",
       "      <td>dummy</td>\n",
       "      <td>transformed_aware</td>\n",
       "      <td>aware</td>\n",
       "      <td>0.180964</td>\n",
       "      <td>0.506374</td>\n",
       "      <td>0.500000</td>\n",
       "      <td>-0.068747</td>\n",
       "      <td>-0.132567</td>\n",
       "      <td>0.000</td>\n",
       "      <td>0.024457</td>\n",
       "      <td>0.062120</td>\n",
       "    </tr>\n",
       "    <tr>\n",
       "      <th>3</th>\n",
       "      <td>dummy</td>\n",
       "      <td>transformed_public_school</td>\n",
       "      <td>unaware</td>\n",
       "      <td>0.147619</td>\n",
       "      <td>0.492918</td>\n",
       "      <td>0.500000</td>\n",
       "      <td>0.015797</td>\n",
       "      <td>0.032088</td>\n",
       "      <td>-0.130</td>\n",
       "      <td>-0.013200</td>\n",
       "      <td>0.000774</td>\n",
       "    </tr>\n",
       "  </tbody>\n",
       "</table>\n",
       "</div>"
      ],
      "text/plain": [
       "   model                    dataset fairness_mitigation        f1  accuracy  \\\n",
       "1     RF  transformed_public_school             unaware  0.454198  0.797450   \n",
       "0     RF          transformed_aware               aware  0.436508  0.798867   \n",
       "2  dummy          transformed_aware               aware  0.180964  0.506374   \n",
       "3  dummy  transformed_public_school             unaware  0.147619  0.492918   \n",
       "\n",
       "        auc  demographic_parity_dif  disparate_impact_rate  equal_opp_dif  \\\n",
       "1  0.893980                0.120002               0.488422          0.035   \n",
       "0  0.884841                0.121563               0.525820          0.020   \n",
       "2  0.500000               -0.068747              -0.132567          0.000   \n",
       "3  0.500000                0.015797               0.032088         -0.130   \n",
       "\n",
       "   equalized_odd_dif  sufficiency_dif  \n",
       "1           0.136755        -0.000229  \n",
       "0           0.118039        -0.012304  \n",
       "2           0.024457         0.062120  \n",
       "3          -0.013200         0.000774  "
      ]
     },
     "execution_count": 27,
     "metadata": {},
     "output_type": "execute_result"
    }
   ],
   "source": [
    "results_fairness_school.sort_values(by='f1', ascending=False)"
   ]
  },
  {
   "cell_type": "code",
   "execution_count": 29,
   "metadata": {},
   "outputs": [
    {
     "data": {
      "text/plain": [
       "Index(['demographic_parity_dif', 'disparate_impact_rate', 'equalized_odd_dif'], dtype='object')"
      ]
     },
     "execution_count": 29,
     "metadata": {},
     "output_type": "execute_result"
    }
   ],
   "source": [
    "results_fairness_school.columns[[6,7,9]]"
   ]
  },
  {
   "cell_type": "code",
   "execution_count": 31,
   "metadata": {},
   "outputs": [
    {
     "data": {
      "image/png": "[encoded data removed]",
      "text/plain": [
       "<Figure size 1080x360 with 2 Axes>"
      ]
     },
     "metadata": {},
     "output_type": "display_data"
    }
   ],
   "source": [
    "fig, (ax1, ax2) = plt.subplots(1, 2, figsize=(15, 5),  sharey='row')\n",
    "\n",
    "x = ['demP', 'dispR', 'eqODD']\n",
    "height = results_fairness_school.loc[[(x=='RF' and y=='aware') for x,y in list(zip(results_fairness_school['model'], results_fairness_school['fairness_mitigation']))],results_fairness_school.columns[[6,7,9]]].to_numpy().flatten()  \n",
    "ax1.bar(x, height)\n",
    "ax1.set_title('Aware')\n",
    "ax1.axhline(y=-.2, color = 'r')\n",
    "ax1.axhline(y=.2, color=  'r')\n",
    "\n",
    "x = ['demP', 'dispR', 'eqODD']\n",
    "height = results_fairness_school.loc[[(x=='RF' and y=='unaware') for x,y in list(zip(results_fairness_school['model'], results_fairness_school['fairness_mitigation']))],results_fairness_school.columns[[6,7,9]]].to_numpy().flatten()  \n",
    "ax2.bar(x, height)\n",
    "ax2.set_title('Unaware')\n",
    "ax2.axhline(y=-.2, color = 'r')\n",
    "ax2.axhline(y=.2, color=  'r')\n",
    "\n",
    "plt.show()"
   ]
  },
  {
   "cell_type": "code",
   "execution_count": 32,
   "metadata": {},
   "outputs": [
    {
     "data": {
      "image/png": "[encoded data removed]",
      "text/plain": [
       "<Figure size 1080x360 with 2 Axes>"
      ]
     },
     "metadata": {},
     "output_type": "display_data"
    }
   ],
   "source": [
    "fig, (ax1, ax2) = plt.subplots(1, 2, figsize=(15, 5),  sharey='row')\n",
    "\n",
    "x = ['demP', 'dispR', 'eqOP', 'eqODD', 'suffic']\n",
    "height_school = results_fairness_school.loc[[(x=='RF' and y=='aware') for x,y in list(zip(results_fairness_school['model'], results_fairness_school['fairness_mitigation']))],results_fairness_school.columns[range(6,11)]].to_numpy().flatten()  \n",
    "\n",
    "ax1.bar(x, height_school)\n",
    "ax1.set_title('School')\n",
    "ax1.axhline(y=-.2, color = 'r')\n",
    "ax1.axhline(y=.2, color=  'r')\n",
    "\n",
    "x = ['demP', 'dispR', 'eqOP', 'eqODD', 'suffic']\n",
    "height_gender = results_fairness_gender.loc[[(x=='RF' and y=='aware') for x,y in list(zip(results_fairness_gender['model'], results_fairness_gender['fairness_mitigation']))],results_fairness_gender.columns[range(6,11)]].to_numpy().flatten()  \n",
    "ax2.bar(x, height_gender)\n",
    "ax2.set_title('Gender')\n",
    "ax2.axhline(y=-.2, color = 'r')\n",
    "ax2.axhline(y=.2, color=  'r')\n",
    "\n",
    "plt.show()"
   ]
  },
  {
   "cell_type": "code",
   "execution_count": 33,
   "metadata": {},
   "outputs": [
    {
     "data": {
      "image/png": "[encoded data removed]",
      "text/plain": [
       "<Figure size 432x288 with 1 Axes>"
      ]
     },
     "metadata": {},
     "output_type": "display_data"
    }
   ],
   "source": [
    "height_school = results_fairness_gender.loc[[(x=='RF' and y=='aware') for x,y in list(zip(results_fairness_gender['model'], results_fairness_school['fairness_mitigation']))],results_fairness_school.columns[[6,7,9]]].to_numpy().flatten()  \n",
    "x = ['demP', 'dispR', 'eqODD']\n",
    "\n",
    "plt.bar(x, height_school)\n",
    "plt.title('2nd Semester')\n",
    "plt.ylim([-.25,.6])\n",
    "plt.axhline(y=-.2, color = 'r')\n",
    "plt.axhline(y=.2, color=  'r')\n",
    "plt.show()"
   ]
  },
  {
   "cell_type": "code",
   "execution_count": 34,
   "metadata": {},
   "outputs": [
    {
     "data": {
      "image/png": "[encoded data removed]",
      "text/plain": [
       "<Figure size 432x288 with 1 Axes>"
      ]
     },
     "metadata": {},
     "output_type": "display_data"
    }
   ],
   "source": [
    "height_school = results_fairness_school.loc[[(x=='RF' and y=='aware') for x,y in list(zip(results_fairness_school['model'], results_fairness_school['fairness_mitigation']))],results_fairness_school.columns[[6,7,9]]].to_numpy().flatten()  \n",
    "x = ['demP', 'dispR', 'eqODD']\n",
    "\n",
    "\n",
    "plt.bar(x, height_school)\n",
    "plt.title('2nd Semester')\n",
    "plt.ylim([-.25,.6])\n",
    "plt.axhline(y=-.2, color = 'r')\n",
    "plt.axhline(y=.2, color=  'r')\n",
    "plt.show()"
   ]
  },
  {
   "cell_type": "markdown",
   "metadata": {},
   "source": [
    "# Implementing Pre-processing Fairness Mitigation"
   ]
  },
  {
   "cell_type": "code",
   "execution_count": 36,
   "metadata": {},
   "outputs": [],
   "source": [
    "aware_features.extend(['label'])"
   ]
  },
  {
   "cell_type": "code",
   "execution_count": 38,
   "metadata": {},
   "outputs": [],
   "source": [
    "from aif360.algorithms.preprocessing import DisparateImpactRemover\n",
    "from aif360.metrics import BinaryLabelDatasetMetric\n",
    "from aif360.datasets import StandardDataset\n",
    "from aif360.datasets import BinaryLabelDataset\n",
    "from tqdm import tqdm\n",
    "\n",
    "features_pd = pd.DataFrame(aware_features)\n",
    "ds_train = pd.DataFrame(datasets['transformed_aware'].toarray(), index=y_train.index)\n",
    "ds_train = pd.concat([ds_train, y_train], axis=1, ignore_index=False)\n",
    "ds_train.columns = aware_features\n",
    "\n",
    "ds_test = pd.DataFrame(datasets_test['transformed_aware'].toarray(), index=y_test.index)\n",
    "ds_test = pd.concat([ds_test, y_test], axis=1, ignore_index=False)\n",
    "ds_test.columns = aware_features\n",
    "\n",
    "\n",
    "train = BinaryLabelDataset(df=ds_train, favorable_label = 1, unfavorable_label = 0, label_names = ['label'], protected_attribute_names = ['public_school_1'], unprivileged_protected_attributes = [[2.4030100227877655]], privileged_protected_attributes = [[0.]])\n",
    "test = BinaryLabelDataset(df=ds_test, favorable_label = 1, unfavorable_label = 0, label_names = ['label'], protected_attribute_names = ['public_school_1'], unprivileged_protected_attributes = [[2.4030100227877655]], privileged_protected_attributes = [[0.]])\n",
    "y_train_data = y_train\n",
    "index_train = train.feature_names.index('public_school_1')\n",
    "index_test = test.feature_names.index('public_school_1')\n"
   ]
  },
  {
   "cell_type": "code",
   "execution_count": 39,
   "metadata": {},
   "outputs": [
    {
     "name": "stderr",
     "output_type": "stream",
     "text": [
      "100%|██████████| 41/41 [00:43<00:00,  1.06s/it]\n"
     ]
    }
   ],
   "source": [
    "rf = train_models['RF']['transformed_aware'].best_estimator_['RF']\n",
    "\n",
    "DIs = []\n",
    "for level in tqdm(np.linspace(0., 1., 41)):\n",
    "    di = DisparateImpactRemover(repair_level=level, sensitive_attribute='public_school_1' )\n",
    "    train_repd = di.fit_transform(train)\n",
    "    test_repd = di.fit_transform(test)\n",
    "    \n",
    "    \n",
    "    X_tr = np.delete(train_repd.features, index_train, axis=1)\n",
    "    X_te = np.delete(test_repd.features, index_test, axis=1)\n",
    "    y_tr = train_repd.labels.ravel()\n",
    "    \n",
    "    fit = rf.fit(X_tr, y_tr)\n",
    "    \n",
    "    test_repd_pred = test_repd.copy()\n",
    "    test_repd_pred.labels = fit.predict(X_te)\n",
    "\n",
    "    p = [{'public_school_1':0}]\n",
    "    u = [{'public_school_1':2.4030100227877655}]\n",
    "    cm = BinaryLabelDatasetMetric(test_repd_pred, privileged_groups=p, unprivileged_groups = u)\n",
    "    DIs.append(cm.disparate_impact()-1)"
   ]
  },
  {
   "cell_type": "code",
   "execution_count": 40,
   "metadata": {},
   "outputs": [
    {
     "data": {
      "text/plain": [
       "Text(0.5, 0, 'Repair Level')"
      ]
     },
     "execution_count": 40,
     "metadata": {},
     "output_type": "execute_result"
    },
    {
     "data": {
      "image/png": "[encoded data removed]",
      "text/plain": [
       "<Figure size 432x288 with 1 Axes>"
      ]
     },
     "metadata": {},
     "output_type": "display_data"
    }
   ],
   "source": [
    "plt.plot(np.linspace(0, 1, 41), DIs, marker='o')\n",
    "plt.plot([0, 1], [0, 0], 'g')\n",
    "plt.plot([0, 1], [-0.2, -0.2], 'r')\n",
    "plt.plot([0, 1], [0.2, 0.2], 'r')\n",
    "plt.ylim([-0.8, 0.8])\n",
    "plt.title('School Type Scenario (2nd Sem)')\n",
    "plt.ylabel('Disparate Impact Rate (dispR)')\n",
    "plt.xlabel('Repair Level')\n"
   ]
  },
  {
   "cell_type": "code",
   "execution_count": 41,
   "metadata": {},
   "outputs": [
    {
     "data": {
      "text/html": [
       "<div>\n",
       "<style scoped>\n",
       "    .dataframe tbody tr th:only-of-type {\n",
       "        vertical-align: middle;\n",
       "    }\n",
       "\n",
       "    .dataframe tbody tr th {\n",
       "        vertical-align: top;\n",
       "    }\n",
       "\n",
       "    .dataframe thead th {\n",
       "        text-align: right;\n",
       "    }\n",
       "</style>\n",
       "<table border=\"1\" class=\"dataframe\">\n",
       "  <thead>\n",
       "    <tr style=\"text-align: right;\">\n",
       "      <th></th>\n",
       "      <th>model</th>\n",
       "      <th>dataset</th>\n",
       "      <th>fairness_mitigation</th>\n",
       "      <th>f1</th>\n",
       "      <th>accuracy</th>\n",
       "      <th>auc</th>\n",
       "      <th>demographic_parity_dif</th>\n",
       "      <th>disparate_impact_rate</th>\n",
       "      <th>equal_opp_dif</th>\n",
       "      <th>equalized_odd_dif</th>\n",
       "      <th>sufficiency_dif</th>\n",
       "    </tr>\n",
       "  </thead>\n",
       "  <tbody>\n",
       "    <tr>\n",
       "      <th>2</th>\n",
       "      <td>dummy</td>\n",
       "      <td>transformed_aware</td>\n",
       "      <td>aware</td>\n",
       "      <td>0.180964</td>\n",
       "      <td>0.506374</td>\n",
       "      <td>0.500000</td>\n",
       "      <td>-0.068747</td>\n",
       "      <td>-0.132567</td>\n",
       "      <td>0.000</td>\n",
       "      <td>0.024457</td>\n",
       "      <td>0.062120</td>\n",
       "    </tr>\n",
       "    <tr>\n",
       "      <th>3</th>\n",
       "      <td>dummy</td>\n",
       "      <td>transformed_public_school</td>\n",
       "      <td>unaware</td>\n",
       "      <td>0.147619</td>\n",
       "      <td>0.492918</td>\n",
       "      <td>0.500000</td>\n",
       "      <td>0.015797</td>\n",
       "      <td>0.032088</td>\n",
       "      <td>-0.130</td>\n",
       "      <td>-0.013200</td>\n",
       "      <td>0.000774</td>\n",
       "    </tr>\n",
       "    <tr>\n",
       "      <th>0</th>\n",
       "      <td>RF</td>\n",
       "      <td>transformed_aware</td>\n",
       "      <td>aware</td>\n",
       "      <td>0.436508</td>\n",
       "      <td>0.798867</td>\n",
       "      <td>0.884841</td>\n",
       "      <td>0.121563</td>\n",
       "      <td>0.525820</td>\n",
       "      <td>0.020</td>\n",
       "      <td>0.118039</td>\n",
       "      <td>-0.012304</td>\n",
       "    </tr>\n",
       "    <tr>\n",
       "      <th>1</th>\n",
       "      <td>RF</td>\n",
       "      <td>transformed_public_school</td>\n",
       "      <td>unaware</td>\n",
       "      <td>0.454198</td>\n",
       "      <td>0.797450</td>\n",
       "      <td>0.893980</td>\n",
       "      <td>0.120002</td>\n",
       "      <td>0.488422</td>\n",
       "      <td>0.035</td>\n",
       "      <td>0.136755</td>\n",
       "      <td>-0.000229</td>\n",
       "    </tr>\n",
       "    <tr>\n",
       "      <th>4</th>\n",
       "      <td>RF</td>\n",
       "      <td>transformed_aware</td>\n",
       "      <td>DisparateImpactRemover</td>\n",
       "      <td>0.453125</td>\n",
       "      <td>0.801700</td>\n",
       "      <td>0.882148</td>\n",
       "      <td>0.052167</td>\n",
       "      <td>0.206980</td>\n",
       "      <td>-0.005</td>\n",
       "      <td>0.118532</td>\n",
       "      <td>0.052503</td>\n",
       "    </tr>\n",
       "  </tbody>\n",
       "</table>\n",
       "</div>"
      ],
      "text/plain": [
       "   model                    dataset     fairness_mitigation        f1  \\\n",
       "2  dummy          transformed_aware                   aware  0.180964   \n",
       "3  dummy  transformed_public_school                 unaware  0.147619   \n",
       "0     RF          transformed_aware                   aware  0.436508   \n",
       "1     RF  transformed_public_school                 unaware  0.454198   \n",
       "4     RF          transformed_aware  DisparateImpactRemover  0.453125   \n",
       "\n",
       "   accuracy       auc  demographic_parity_dif  disparate_impact_rate  \\\n",
       "2  0.506374  0.500000               -0.068747              -0.132567   \n",
       "3  0.492918  0.500000                0.015797               0.032088   \n",
       "0  0.798867  0.884841                0.121563               0.525820   \n",
       "1  0.797450  0.893980                0.120002               0.488422   \n",
       "4  0.801700  0.882148                0.052167               0.206980   \n",
       "\n",
       "   equal_opp_dif  equalized_odd_dif  sufficiency_dif  \n",
       "2          0.000           0.024457         0.062120  \n",
       "3         -0.130          -0.013200         0.000774  \n",
       "0          0.020           0.118039        -0.012304  \n",
       "1          0.035           0.136755        -0.000229  \n",
       "4         -0.005           0.118532         0.052503  "
      ]
     },
     "execution_count": 41,
     "metadata": {},
     "output_type": "execute_result"
    }
   ],
   "source": [
    "di = DisparateImpactRemover(repair_level=np.linspace(0., 1., 41)[np.where(DIs==min(DIs))[0][0]], sensitive_attribute='public_school_1' )\n",
    "rf = train_models['RF']['transformed_aware'].best_estimator_['RF']  \n",
    "\n",
    "train_repd = di.fit_transform(train)\n",
    "test_repd = di.fit_transform(test)  \n",
    "    \n",
    "X_tr = np.delete(train_repd.features, index_train, axis=1)\n",
    "X_te = np.delete(test_repd.features, index_test, axis=1)\n",
    "y_tr = train_repd.labels.ravel()\n",
    "    \n",
    "    \n",
    "fit = rf.fit(X_tr, y_tr)\n",
    "    \n",
    "test_repd_pred = test_repd.copy()\n",
    "test_repd_pred.labels = rf.predict(X_te)\n",
    "\n",
    "prediction = test_repd_pred.labels\n",
    "sens = A_test['public_school']\n",
    "y_test_data = test_repd.labels.ravel()\n",
    "\n",
    "fairness_perfo_dpd = fm.demographic_parity_dif(prediction, sens, 0)\n",
    "fairness_perfo_di = fm.disparate_impact_rate(prediction, sens, 0)-1\n",
    "fairness_perfo_eopd = fm.equal_opp_dif(y_test_data, prediction, sens, 0)\n",
    "fairness_perfo_eod = fm.equalized_odd_dif(y_test_data, prediction, sens,0)\n",
    "fairness_perfo_suff_dif = fm.sufficiency_dif(y_test_data, prediction, sens, 0)\n",
    "\n",
    "f1 = f1_score(y_test_data, prediction)\n",
    "auc = roc_auc_score(y_test_data, rf.predict_proba(X_te)[:,1])\n",
    "acc = accuracy_score(y_test_data, prediction)\n",
    "\n",
    "new_res = {'model': 'RF', 'dataset': 'transformed_aware', 'fairness_mitigation': 'DisparateImpactRemover', 'f1':f1, 'accuracy':acc, 'auc':auc, 'demographic_parity_dif':fairness_perfo_dpd, 'disparate_impact_rate':fairness_perfo_di, 'equal_opp_dif':fairness_perfo_eopd, 'equalized_odd_dif':fairness_perfo_eod, 'sufficiency_dif':fairness_perfo_suff_dif}\n",
    "results_fairness_school=results_fairness_school.append(new_res, ignore_index=True)\n",
    "results_fairness_school.sort_values(by='model', ascending=False)"
   ]
  },
  {
   "cell_type": "code",
   "execution_count": 42,
   "metadata": {},
   "outputs": [
    {
     "data": {
      "text/plain": [
       "<matplotlib.legend.Legend at 0x7ff49858b160>"
      ]
     },
     "execution_count": 42,
     "metadata": {},
     "output_type": "execute_result"
    },
    {
     "data": {
      "image/png": "[encoded data removed]",
      "text/plain": [
       "<Figure size 432x288 with 1 Axes>"
      ]
     },
     "metadata": {},
     "output_type": "display_data"
    }
   ],
   "source": [
    "labels = ['demP', 'dispR', 'eqODD']\n",
    "x = np.arange(len(labels))  # the label locations\n",
    "width = .2  # the width of the bars\n",
    "height_aware = results_fairness_school.loc[[(x=='RF' and y=='aware') for x,y in list(zip(results_fairness_school['model'], results_fairness_school['fairness_mitigation']))],results_fairness_school.columns[[6,7,9]]].to_numpy().flatten()  \n",
    "height_unaware = results_fairness_school.loc[[(x=='RF' and y=='unaware') for x,y in list(zip(results_fairness_school['model'], results_fairness_school['fairness_mitigation']))],results_fairness_school.columns[[6,7,9]]].to_numpy().flatten()  \n",
    "height_dimpr = results_fairness_school.loc[[(x=='RF' and y=='DisparateImpactRemover') for x,y in list(zip(results_fairness_school['model'], results_fairness_school['fairness_mitigation']))],results_fairness_school.columns[[6,7,9]]].to_numpy().flatten()  \n",
    "\n",
    "fig, ax = plt.subplots()\n",
    "rects1 = ax.bar(x - width, height_aware, width, label='Aware')\n",
    "rects2 = ax.bar(x, height_unaware, width, label='Unaware')\n",
    "rects3 = ax.bar(x + width, height_dimpr, width, label='DispImpact Remover')\n",
    "\n",
    "ax.axhline(y=-.2, color = 'r')\n",
    "ax.axhline(y=.2, color=  'r')\n",
    "ax.set_ylim([-.3, 0.7])\n",
    "\n",
    "ax.set_ylabel('Scores')\n",
    "ax.set_title('Fairness Metrics - School Type Scenario')\n",
    "ax.set_xticks(x)\n",
    "ax.set_xticklabels(labels)\n",
    "ax.legend()\n"
   ]
  },
  {
   "cell_type": "markdown",
   "metadata": {},
   "source": [
    "# Feature Importance"
   ]
  },
  {
   "cell_type": "code",
   "execution_count": 46,
   "metadata": {},
   "outputs": [],
   "source": [
    "importances = rf.feature_importances_\n",
    "std = np.std([\n",
    "    tree.feature_importances_ for tree in rf.estimators_], axis=0)\n",
    "elapsed_time = time.time() - start_time"
   ]
  },
  {
   "cell_type": "code",
   "execution_count": 47,
   "metadata": {},
   "outputs": [],
   "source": [
    "importances = pd.DataFrame(importances, columns = ['importance'], index=train_repd.feature_names[:43])\n",
    "std = pd.DataFrame(std, columns = ['std'], index=train_repd.feature_names[:43])\n",
    "forest_importances = pd.concat([importances, std], axis = 1)"
   ]
  },
  {
   "cell_type": "code",
   "execution_count": 48,
   "metadata": {},
   "outputs": [
    {
     "data": {
      "image/png": "[encoded data removed]",
      "text/plain": [
       "<Figure size 360x360 with 1 Axes>"
      ]
     },
     "metadata": {},
     "output_type": "display_data"
    }
   ],
   "source": [
    "fig, ax = plt.subplots(figsize=(5, 5))\n",
    "forest_importances.sort_values(by='importance', ascending=True)['importance'][33:].plot.barh(ax=ax)\n",
    "ax.set_title(\"Feature importances using MDI-school\")\n",
    "ax.set_ylabel(\"Mean decrease in impurity\")\n",
    "fig.tight_layout()"
   ]
  },
  {
   "cell_type": "code",
   "execution_count": null,
   "metadata": {},
   "outputs": [],
   "source": []
  }
 ],
 "metadata": {
  "kernelspec": {
   "display_name": "Python 3",
   "language": "python",
   "name": "python3"
  },
  "language_info": {
   "codemirror_mode": {
    "name": "ipython",
    "version": 3
   },
   "file_extension": ".py",
   "mimetype": "text/x-python",
   "name": "python",
   "nbconvert_exporter": "python",
   "pygments_lexer": "ipython3",
   "version": "3.8.5"
  }
 },
 "nbformat": 4,
 "nbformat_minor": 4
}
